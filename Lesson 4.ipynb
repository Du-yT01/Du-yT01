{
 "cells": [
  {
   "cell_type": "markdown",
   "metadata": {},
   "source": [
    "Thêm thư viện"
   ]
  },
  {
   "cell_type": "code",
   "execution_count": 57,
   "metadata": {},
   "outputs": [],
   "source": [
    "import math"
   ]
  },
  {
   "cell_type": "markdown",
   "metadata": {},
   "source": [
    "## Câu 1"
   ]
  },
  {
   "cell_type": "code",
   "execution_count": 8,
   "metadata": {},
   "outputs": [
    {
     "name": "stdout",
     "output_type": "stream",
     "text": [
      "Tổng: 7\n",
      "Hiệu: -3\n",
      "Tích: 10\n",
      "Thương: 0.4\n"
     ]
    }
   ],
   "source": [
    "# Nhập hai biến a và b\n",
    "a = 2  # Bạn có thể thay đổi giá trị này\n",
    "b = 5  # Bạn có thể thay đổi giá trị này\n",
    "\n",
    "# Tính toán\n",
    "tong = a + b\n",
    "hieu = a - b\n",
    "tich = a * b\n",
    "thuong = a / b if b != 0 else \"Không thể chia cho 0\"\n",
    "\n",
    "# In kết quả\n",
    "print(f\"Tổng: {tong}\")\n",
    "print(f\"Hiệu: {hieu}\")\n",
    "print(f\"Tích: {tich}\")\n",
    "print(f\"Thương: {thuong}\")\n"
   ]
  },
  {
   "cell_type": "markdown",
   "metadata": {},
   "source": [
    "# Câu 2"
   ]
  },
  {
   "cell_type": "code",
   "execution_count": 14,
   "metadata": {},
   "outputs": [
    {
     "name": "stdout",
     "output_type": "stream",
     "text": [
      "a lớn hơn 5\n"
     ]
    }
   ],
   "source": [
    "a= 6\n",
    "if a <5 :print(\"a nhỏ hơn 5\")\n",
    "elif a>5 :print(\"a lớn hơn 5\")\n",
    "else :print(\"a bằng 5\")"
   ]
  },
  {
   "cell_type": "markdown",
   "metadata": {},
   "source": [
    "# Câu 3"
   ]
  },
  {
   "cell_type": "code",
   "execution_count": 33,
   "metadata": {},
   "outputs": [
    {
     "name": "stdout",
     "output_type": "stream",
     "text": [
      "Xếp loại: Trung bình\n"
     ]
    }
   ],
   "source": [
    "diem = 3\n",
    "\n",
    "if diem < 0 or diem > 10:\n",
    "    print(\"Điểm không hợp lệ. Vui lòng nhập điểm trong khoảng từ 0 đến 10.\")\n",
    "elif diem >= 8:\n",
    "    print(\"Xếp loại: Giỏi\")\n",
    "elif diem >= 6:\n",
    "    print(\"Xếp loại: Khá\")\n",
    "elif diem >= 4:\n",
    "    print(\"Xếp loại: Yếu\")\n",
    "else:\n",
    "    print(\"Xếp loại: Trung bình\")"
   ]
  },
  {
   "cell_type": "markdown",
   "metadata": {},
   "source": [
    "# Câu 4"
   ]
  },
  {
   "cell_type": "code",
   "execution_count": 39,
   "metadata": {},
   "outputs": [
    {
     "name": "stdout",
     "output_type": "stream",
     "text": [
      "Số lớn nhất là: 8.3\n"
     ]
    }
   ],
   "source": [
    "a = 8.3\n",
    "b = 5\n",
    "c = -1\n",
    "\n",
    "So_Lon_Nhat = max(a,b,c)\n",
    "print(f\"Số lớn nhất là: {So_Lon_Nhat}\")"
   ]
  },
  {
   "cell_type": "markdown",
   "metadata": {},
   "source": [
    "# Câu 5"
   ]
  },
  {
   "cell_type": "code",
   "execution_count": 40,
   "metadata": {},
   "outputs": [
    {
     "name": "stdout",
     "output_type": "stream",
     "text": [
      "Nghiệm của phương trình là: x=0.8\n"
     ]
    }
   ],
   "source": [
    "a= 5\n",
    "b =-4\n",
    "\n",
    "if a==0:\n",
    "    print(\"Phương trình vô nghiệm hoặc có vô số nghiệm.\")\n",
    "else:\n",
    "    x=-b/a\n",
    "    print(f\"Nghiệm của phương trình là: x={x}\")"
   ]
  },
  {
   "cell_type": "markdown",
   "metadata": {},
   "source": [
    "# Câu 6"
   ]
  },
  {
   "cell_type": "code",
   "execution_count": 48,
   "metadata": {},
   "outputs": [
    {
     "name": "stdout",
     "output_type": "stream",
     "text": [
      "các số chia hết cho 2: 2 4 6 8 10 12 14 16 18 20 22 24 26 28 \n",
      "Các số theo thứ tự giảm dần: 29 28 27 26 25 24 23 22 21 20 19 18 17 16 15 14 13 12 11 10 9 8 7 6 5 4 3 2 1 "
     ]
    }
   ],
   "source": [
    "mang = range(1,30)\n",
    "\n",
    "print(\"các số chia hết cho 2:\", end=\" \")\n",
    "for So_Chan in mang:\n",
    "    if So_Chan%2 ==0:\n",
    "        print(So_Chan,end=\" \")\n",
    "print()\n",
    "\n",
    "print (\"Các số theo thứ tự giảm dần:\",end=\" \")\n",
    "for Giam_dan in sorted(mang,reverse=True):\n",
    "    print(Giam_dan,end=\" \")"
   ]
  },
  {
   "cell_type": "markdown",
   "metadata": {},
   "source": [
    "# Câu 7"
   ]
  },
  {
   "cell_type": "code",
   "execution_count": 50,
   "metadata": {},
   "outputs": [
    {
     "name": "stdout",
     "output_type": "stream",
     "text": [
      "Dãy số chẵn bé hơn 20: 2 4 6 8 10 12 14 16 18 \n"
     ]
    }
   ],
   "source": [
    "a= 2\n",
    "print(\"Dãy số chẵn bé hơn 20:\", end=\" \")\n",
    "while a<20:\n",
    "    print(a , end=\" \")\n",
    "    a +=2\n",
    "print()"
   ]
  },
  {
   "cell_type": "markdown",
   "metadata": {},
   "source": [
    "# Câu 8"
   ]
  },
  {
   "cell_type": "code",
   "execution_count": 56,
   "metadata": {},
   "outputs": [
    {
     "name": "stdout",
     "output_type": "stream",
     "text": [
      "Tổng các chữ số là: 20\n"
     ]
    }
   ],
   "source": [
    "a= 23456\n",
    "b=0\n",
    "sum = 0\n",
    "print(\"Tổng các chữ số là:\", end = \" \")\n",
    "while a>0 :\n",
    "    b=a%10\n",
    "    sum = sum+b\n",
    "    a=a//10\n",
    "print(sum)"
   ]
  },
  {
   "cell_type": "markdown",
   "metadata": {},
   "source": [
    "# Câu 9"
   ]
  },
  {
   "cell_type": "code",
   "execution_count": 59,
   "metadata": {},
   "outputs": [
    {
     "name": "stdout",
     "output_type": "stream",
     "text": [
      "Chu vi hình tròn là:43.98\n",
      "Diện tích hình tròn là: 153.94\n"
     ]
    }
   ],
   "source": [
    "\n",
    "a= 7 \n",
    "chu_vi = 2* math.pi *a\n",
    "dien_tich= math.pi*(a**2)\n",
    "\n",
    "print(f\"Chu vi hình tròn là:{chu_vi:.2f}\")\n",
    "print(f\"Diện tích hình tròn là: { dien_tich:.2f}\")"
   ]
  },
  {
   "cell_type": "markdown",
   "metadata": {},
   "source": [
    "# Câu 10"
   ]
  },
  {
   "cell_type": "code",
   "execution_count": 64,
   "metadata": {},
   "outputs": [
    {
     "name": "stdout",
     "output_type": "stream",
     "text": [
      "a) Tính diện tích và chi vi hình chữ nhật\n",
      "Chu vi hình chữ nhật là:20.00\n",
      "Diện tích hình chữ nhật là: 21.00\n",
      "\n",
      "b) tính chu vi tam giác\n",
      "Chu vi tam giác là: 19.00\n"
     ]
    }
   ],
   "source": [
    "a =3\n",
    "b =7\n",
    "if a<=0 or b<=a: print(\"Điều kiện không hợp lệ, vui long nhập lại 2 số.\")\n",
    "\n",
    "print(\"a) Tính diện tích và chi vi hình chữ nhật\")\n",
    "\n",
    "chu_vi = (a+b)*2\n",
    "dien_tich = a*b\n",
    "\n",
    "print(f\"Chu vi hình chữ nhật là:{chu_vi:.2f}\")\n",
    "print(f\"Diện tích hình chữ nhật là: { dien_tich:.2f}\\n\")\n",
    "\n",
    "print(\"b) tính chu vi tam giác\")\n",
    "c=9\n",
    "\n",
    "if a+b>c or a+c>b or b+c>a:\n",
    "    chu_vi_tam_giac = a+ b+ c\n",
    "    print(f\"Chu vi tam giác là: {chu_vi_tam_giac:.2f}\")\n",
    "else:\n",
    "    print(\"Cạnh c không tạo thành một tam giác hợp  lệ.\")\n"
   ]
  }
 ],
 "metadata": {
  "kernelspec": {
   "display_name": "Python 3",
   "language": "python",
   "name": "python3"
  },
  "language_info": {
   "codemirror_mode": {
    "name": "ipython",
    "version": 3
   },
   "file_extension": ".py",
   "mimetype": "text/x-python",
   "name": "python",
   "nbconvert_exporter": "python",
   "pygments_lexer": "ipython3",
   "version": "3.11.5"
  }
 },
 "nbformat": 4,
 "nbformat_minor": 2
}
