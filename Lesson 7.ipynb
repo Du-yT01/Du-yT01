{
 "cells": [
  {
   "cell_type": "code",
   "execution_count": 1,
   "metadata": {},
   "outputs": [],
   "source": [
    "import numpy as np"
   ]
  },
  {
   "cell_type": "markdown",
   "metadata": {},
   "source": [
    "# Câu 1"
   ]
  },
  {
   "cell_type": "code",
   "execution_count": 2,
   "metadata": {},
   "outputs": [
    {
     "name": "stdout",
     "output_type": "stream",
     "text": [
      "Mảng Numpy: [1 2 3 4 5]\n"
     ]
    }
   ],
   "source": [
    "list = [1,2,3,4,5]\n",
    "array = np.array(list)\n",
    "\n",
    "print(\"Mảng Numpy:\", array)"
   ]
  },
  {
   "cell_type": "markdown",
   "metadata": {},
   "source": [
    "# Câu 2"
   ]
  },
  {
   "cell_type": "code",
   "execution_count": 5,
   "metadata": {},
   "outputs": [
    {
     "name": "stdout",
     "output_type": "stream",
     "text": [
      "Ma trận 3x3:\n",
      " [[0 1 2]\n",
      " [3 4 5]\n",
      " [6 7 8]]\n"
     ]
    }
   ],
   "source": [
    "ma_tran_3x3 = np.arange(9).reshape(3,3)\n",
    "\n",
    "print(\"Ma trận 3x3:\\n\",\n",
    "      ma_tran_3x3)"
   ]
  },
  {
   "cell_type": "markdown",
   "metadata": {},
   "source": [
    "# Câu 4"
   ]
  },
  {
   "cell_type": "code",
   "execution_count": 6,
   "metadata": {},
   "outputs": [
    {
     "name": "stdout",
     "output_type": "stream",
     "text": [
      "Giá trị lớn nhất: 5\n",
      "Giá trị nhỏ nhất: 1\n"
     ]
    }
   ],
   "source": [
    "max = np.max(list)\n",
    "min = np.min(list)\n",
    "\n",
    "print(\"Giá trị lớn nhất:\",max)\n",
    "print(\"Giá trị nhỏ nhất:\", min)"
   ]
  },
  {
   "cell_type": "markdown",
   "metadata": {},
   "source": [
    "# Câu 5"
   ]
  },
  {
   "cell_type": "code",
   "execution_count": 9,
   "metadata": {},
   "outputs": [
    {
     "name": "stdout",
     "output_type": "stream",
     "text": [
      "Mảng 2D với giá trị ngẫu nhiên:\n",
      "[[0.37920159 0.44888072 0.91985645]\n",
      " [0.75648781 0.90826534 0.26982452]\n",
      " [0.9252279  0.9756379  0.73843177]]\n"
     ]
    }
   ],
   "source": [
    "random = np.random.rand(3,3)\n",
    "\n",
    "print(\"Mảng 2D với giá trị ngẫu nhiên:\")\n",
    "print(random)"
   ]
  },
  {
   "cell_type": "markdown",
   "metadata": {},
   "source": [
    "# Câu 6"
   ]
  },
  {
   "cell_type": "code",
   "execution_count": 12,
   "metadata": {},
   "outputs": [
    {
     "name": "stdout",
     "output_type": "stream",
     "text": [
      "Giá trị trung bình cộng: 3.0\n"
     ]
    }
   ],
   "source": [
    "trung_binh = np.mean(list)\n",
    "print(\"Giá trị trung bình cộng:\", trung_binh)"
   ]
  },
  {
   "cell_type": "markdown",
   "metadata": {},
   "source": [
    "# Câu 7"
   ]
  },
  {
   "cell_type": "code",
   "execution_count": 16,
   "metadata": {},
   "outputs": [
    {
     "name": "stdout",
     "output_type": "stream",
     "text": [
      "TÍch của hai ma trận A và B:\n",
      "[[ 66  72  78]\n",
      " [156 171 186]]\n"
     ]
    }
   ],
   "source": [
    "A=np.array([[1,2,3],[4,5,6]])\n",
    "B=np.array([[7,8,9],[10,11,12],[13,14,15]])\n",
    "product = np.dot(A,B)\n",
    "print (\"TÍch của hai ma trận A và B:\")\n",
    "print(product)"
   ]
  },
  {
   "cell_type": "markdown",
   "metadata": {},
   "source": [
    "# Câu 8"
   ]
  },
  {
   "cell_type": "code",
   "execution_count": 23,
   "metadata": {},
   "outputs": [
    {
     "name": "stdout",
     "output_type": "stream",
     "text": [
      "Các phần tử chẵn trong mảng: [  4  12  54  66  76  80 104]\n"
     ]
    }
   ],
   "source": [
    "mang = np.array([1,3,4,1,13,54,66,76,104,80,4,80,12])\n",
    "mang_chan = mang[mang % 2 == 0]\n",
    "\n",
    "print(\"Các phần tử chẵn trong mảng:\", np.unique(mang_chan))"
   ]
  },
  {
   "cell_type": "markdown",
   "metadata": {},
   "source": [
    "# Câu 9"
   ]
  },
  {
   "cell_type": "code",
   "execution_count": 24,
   "metadata": {},
   "outputs": [
    {
     "name": "stdout",
     "output_type": "stream",
     "text": [
      "Mảng đã sắp xếp theo thứ tự tăng dần: [  1   1   3   4   4  12  13  54  66  76  80  80 104]\n"
     ]
    }
   ],
   "source": [
    "sap_xep = np.sort(mang)\n",
    "\n",
    "print(\"Mảng đã sắp xếp theo thứ tự tăng dần:\", sap_xep)"
   ]
  },
  {
   "cell_type": "markdown",
   "metadata": {},
   "source": [
    "# Câu 10"
   ]
  },
  {
   "cell_type": "code",
   "execution_count": 25,
   "metadata": {},
   "outputs": [
    {
     "name": "stdout",
     "output_type": "stream",
     "text": [
      "Định thức của ma trận 2x2: -2.0000000000000004\n"
     ]
    }
   ],
   "source": [
    "ma_tran_2x2 = np.array([[1,2],[3,4]])\n",
    "\n",
    "dinh_thuc = np.linalg.det(ma_tran_2x2)\n",
    "\n",
    "print(\"Định thức của ma trận 2x2:\",dinh_thuc)"
   ]
  }
 ],
 "metadata": {
  "kernelspec": {
   "display_name": "Python 3",
   "language": "python",
   "name": "python3"
  },
  "language_info": {
   "codemirror_mode": {
    "name": "ipython",
    "version": 3
   },
   "file_extension": ".py",
   "mimetype": "text/x-python",
   "name": "python",
   "nbconvert_exporter": "python",
   "pygments_lexer": "ipython3",
   "version": "3.11.5"
  }
 },
 "nbformat": 4,
 "nbformat_minor": 2
}
