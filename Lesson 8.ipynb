{
 "cells": [
  {
   "cell_type": "code",
   "execution_count": 17,
   "metadata": {},
   "outputs": [],
   "source": [
    "import pandas as pd\n",
    "import random\n",
    "import numpy as np"
   ]
  },
  {
   "cell_type": "markdown",
   "metadata": {},
   "source": [
    "# Câu 1"
   ]
  },
  {
   "cell_type": "code",
   "execution_count": 9,
   "metadata": {},
   "outputs": [
    {
     "name": "stdout",
     "output_type": "stream",
     "text": [
      "Phần tử đầu tiên: 1\n",
      "Phần tử cuối cùng: 8\n",
      "Tổng: 36\n",
      "Trung bình: 4.50\n",
      "Độ lệch chuẩn: 2.45\n"
     ]
    }
   ],
   "source": [
    "mang= [1,2,3,4,5,6,7,8]\n",
    "\n",
    "series =pd.Series(mang)\n",
    "\n",
    "print(f\"Phần tử đầu tiên: {series[0]}\")\n",
    "print(f\"Phần tử cuối cùng: {series.iloc[-1]}\")\n",
    "\n",
    "total = series.sum()\n",
    "mean = series.mean()\n",
    "std_dev = series.std()\n",
    "\n",
    "print(f\"Tổng: {total}\")\n",
    "print(f\"Trung bình: {mean:.2f}\")\n",
    "print(f\"Độ lệch chuẩn: {std_dev:.2f}\")"
   ]
  },
  {
   "cell_type": "markdown",
   "metadata": {},
   "source": [
    "# Câu 2"
   ]
  },
  {
   "cell_type": "code",
   "execution_count": 24,
   "metadata": {},
   "outputs": [
    {
     "name": "stdout",
     "output_type": "stream",
     "text": [
      "Giá trị theo thứ tự tăng dần:\n",
      "4     6\n",
      "0    10\n",
      "1    13\n",
      "2    15\n",
      "3    16\n",
      "7    16\n",
      "8    18\n",
      "5    19\n",
      "6    20\n",
      "9    20\n",
      "dtype: int64\n",
      "\n",
      "Giá trị theo thứ tự giảm dần:\n",
      "6    20\n",
      "9    20\n",
      "5    19\n",
      "8    18\n",
      "3    16\n",
      "7    16\n",
      "2    15\n",
      "1    13\n",
      "0    10\n",
      "4     6\n",
      "dtype: int64\n",
      "\n",
      "Series sau khi thay thế giá trị bất kỳ:\n",
      "0     9\n",
      "1    13\n",
      "2    15\n",
      "3    16\n",
      "4     6\n",
      "5    19\n",
      "6    20\n",
      "7    16\n",
      "8    18\n",
      "9    20\n",
      "dtype: int64\n"
     ]
    }
   ],
   "source": [
    "random_list = [random.randint(1, 20) for _ in range(10)] \n",
    "random_series = pd.Series(random_list)\n",
    "\n",
    "# a) Sắp xếp giá trị theo thứ tự tăng dần và giảm dần\n",
    "sorted_asc = random_series.sort_values()\n",
    "sorted_desc = random_series.sort_values(ascending=False)\n",
    "\n",
    "print(\"Giá trị theo thứ tự tăng dần:\")\n",
    "print(sorted_asc)\n",
    "print(\"\\nGiá trị theo thứ tự giảm dần:\")\n",
    "print(sorted_desc)\n",
    "\n",
    "# b) Thay thế tất cả các giá trị trong Series bằng một giá trị khác \n",
    "random_series.replace(random_series.iloc[0], 9, inplace=True) \n",
    "\n",
    "print(\"\\nSeries sau khi thay thế giá trị bất kỳ:\")\n",
    "print(random_series)\n"
   ]
  },
  {
   "cell_type": "markdown",
   "metadata": {},
   "source": [
    "# Câu 3"
   ]
  },
  {
   "cell_type": "code",
   "execution_count": 34,
   "metadata": {},
   "outputs": [
    {
     "name": "stdout",
     "output_type": "stream",
     "text": [
      "0     1\n",
      "1     2\n",
      "2     3\n",
      "3     4\n",
      "4     5\n",
      "5     6\n",
      "6     7\n",
      "7     8\n",
      "8     9\n",
      "9    10\n",
      "dtype: int64\n",
      "Series sau  khi thấy giá trị 2: \n",
      "0     1\n",
      "1    99\n",
      "2     3\n",
      "3     4\n",
      "4     5\n",
      "5     6\n",
      "6     7\n",
      "7     8\n",
      "8     9\n",
      "9    10\n",
      "dtype: int64\n"
     ]
    }
   ],
   "source": [
    "random_list = list(range(1,11))\n",
    "random_series = pd.Series(random_list)\n",
    "print(random_series)\n",
    "\n",
    "if 2 in random_series.values:\n",
    "    random_series.replace(2,99, inplace = True)\n",
    "\n",
    "print(\"Series sau  khi thấy giá trị 2: \")\n",
    "print(random_series)"
   ]
  },
  {
   "cell_type": "markdown",
   "metadata": {},
   "source": [
    "# Câu 4"
   ]
  },
  {
   "cell_type": "code",
   "execution_count": 45,
   "metadata": {},
   "outputs": [
    {
     "name": "stdout",
     "output_type": "stream",
     "text": [
      "DataFrame sau khi thêm cột là: \n",
      "      name  age  gender\n",
      "0    Alice   20  female\n",
      "1      Bob   21    male\n",
      "2  Charlie   22    male\n",
      "\n",
      "Thông tin của Bob:\n",
      "  name  age gender\n",
      "1  Bob   21   male\n",
      "\n",
      " Dữ liệu có age lớn hơn 21: \n",
      "      name  age gender\n",
      "2  Charlie   22   male\n",
      "\n",
      "DataFrame sau khi xóa cột'gender':\n",
      "      name  age\n",
      "0    Alice   20\n",
      "1      Bob   21\n",
      "2  Charlie   22\n"
     ]
    }
   ],
   "source": [
    "A = {\n",
    "    'name': ['Alice', 'Bob', 'Charlie'],\n",
    "    'age': [20, 21, 22]\n",
    "}\n",
    "\n",
    "df = pd.DataFrame(A)\n",
    "df['gender'] = ['female', 'male','male']\n",
    "print(\"DataFrame sau khi thêm cột là: \")\n",
    "print(df)\n",
    "\n",
    "bob_info = df[df['name'] == 'Bob']\n",
    "print(\"\\nThông tin của Bob:\")\n",
    "print(bob_info)\n",
    "\n",
    "Fillter= df[df['age'] > 21]\n",
    "print(\"\\n Dữ liệu có age lớn hơn 21: \")\n",
    "print(Fillter)\n",
    "\n",
    "df.drop(columns =['gender'],inplace = True)\n",
    "print(\"\\nDataFrame sau khi xóa cột'gender':\")\n",
    "print(df)"
   ]
  },
  {
   "cell_type": "markdown",
   "metadata": {},
   "source": [
    "# Câu 5"
   ]
  },
  {
   "cell_type": "code",
   "execution_count": 31,
   "metadata": {},
   "outputs": [
    {
     "name": "stdout",
     "output_type": "stream",
     "text": [
      "Dữ liệu bị null:\n",
      "   Tên  Tuổi Giới tính\n",
      "0  NaN  20.0       Nam\n",
      "1  Nhi   NaN        Nữ\n",
      "2  Lan  20.0       NaN\n",
      "\n",
      "Dữ liệu không bị null:\n",
      "    Tên  Tuổi Giới tính\n",
      "3  Tuấn  21.0       Nam\n",
      "\n",
      "Dữ liệu có số tuổi bằng 20:\n",
      "        Tên  Tuổi       Giới tính\n",
      "0  Không rõ  20.0             Nam\n",
      "2       Lan  20.0  Không xác định\n",
      "\n",
      "Dữ liệu sau khi xóa số tuổi bằng 21:\n",
      "        Tên      Tuổi       Giới tính\n",
      "0  Không rõ      20.0             Nam\n",
      "1       Nhi  Không rõ              Nữ\n",
      "2       Lan      20.0  Không xác định\n"
     ]
    }
   ],
   "source": [
    "Data = {\"Tên\" : [np.nan, 'Nhi','Lan','Tuấn'],\n",
    "        \"Tuổi\" :[20,np.nan,20,21],\n",
    "        \"Giới tính\": ['Nam', 'Nữ', np.nan, 'Nam']        \n",
    "        }\n",
    "# a) Hiển thị dữ liệu null và không null\n",
    "df = pd.DataFrame(Data)\n",
    "print(\"Dữ liệu bị null:\")\n",
    "print(df[df.isnull().any(axis=1)])\n",
    "\n",
    "print(\"\\nDữ liệu không bị null:\")\n",
    "print(df.dropna())\n",
    "\n",
    "# b) thay thế dữ liệu bị null\n",
    "df.fillna({\n",
    "        'Tên': 'Không rõ',\n",
    "        'Tuổi': 'Không rõ',\n",
    "        'Giới tính': 'Không xác định'\n",
    "}, inplace = True)\n",
    "\n",
    "# c) Lọc dữ liệu có số tuổi bằng 20\n",
    "tuoi_20 = df[df['Tuổi'] == 20]\n",
    "print(\"\\nDữ liệu có số tuổi bằng 20:\")\n",
    "print(tuoi_20)\n",
    "\n",
    "# d) Xóa dữ liệu có số tuổi bằng 21\n",
    "\n",
    "df=df[df['Tuổi'] != 21]\n",
    "print(\"\\nDữ liệu sau khi xóa số tuổi bằng 21:\")\n",
    "print(df)"
   ]
  }
 ],
 "metadata": {
  "kernelspec": {
   "display_name": "Python 3",
   "language": "python",
   "name": "python3"
  },
  "language_info": {
   "codemirror_mode": {
    "name": "ipython",
    "version": 3
   },
   "file_extension": ".py",
   "mimetype": "text/x-python",
   "name": "python",
   "nbconvert_exporter": "python",
   "pygments_lexer": "ipython3",
   "version": "3.11.5"
  }
 },
 "nbformat": 4,
 "nbformat_minor": 2
}
