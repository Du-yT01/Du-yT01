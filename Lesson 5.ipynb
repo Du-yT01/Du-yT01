{
 "cells": [
  {
   "cell_type": "markdown",
   "metadata": {},
   "source": [
    "Thư viện sử dụng"
   ]
  },
  {
   "cell_type": "code",
   "execution_count": 5,
   "metadata": {},
   "outputs": [],
   "source": [
    "import datetime "
   ]
  },
  {
   "cell_type": "markdown",
   "metadata": {},
   "source": [
    "# Câu 1"
   ]
  },
  {
   "cell_type": "code",
   "execution_count": null,
   "metadata": {},
   "outputs": [
    {
     "name": "stdout",
     "output_type": "stream",
     "text": [
      "Tên bạn là: Mạnh\n",
      "Bạn năm nay 26 tuổi\n",
      "Ban se 100 tuoi vao nam: 2098\n"
     ]
    }
   ],
   "source": [
    "ten = \"Mạnh\"\n",
    "namsinh = 1998\n",
    "age = datetime.datetime.now().year - namsinh\n",
    "\n",
    "print('Tên bạn là:', ten)\n",
    "print(f'Bạn năm nay {age} tuổi')\n",
    "print('Bạn sẽ 100 tuổi vào năm:',namsinh+100)  "
   ]
  },
  {
   "cell_type": "markdown",
   "metadata": {},
   "source": [
    "# Câu 2"
   ]
  },
  {
   "cell_type": "code",
   "execution_count": 20,
   "metadata": {},
   "outputs": [
    {
     "name": "stdout",
     "output_type": "stream",
     "text": [
      "a) Độ dài của đoạn văn và số từ\n",
      "Độ dài đoạn văn: 870 ký tự\n",
      "Số từ trong đoạn văn: 191\n",
      "\n",
      "b) Số ký tự 'a' và 'A'\n",
      "Số ký tự 'a': 11\n",
      "Số ký tự 'A': 4\n",
      "\n",
      "c) Số ký tự là chữ cái và chữ số\n",
      "Số ký tự là chữ cái: 647\n",
      "Số ký tự là chữ số: 8\n",
      "\n",
      "d) Kiểm tra xem đoạn căn có là xâu đối xứng không\n",
      "Đoạn văn này là xâu đối xứng: không đối xứng\n"
     ]
    }
   ],
   "source": [
    "Doan_van = \"\"\"Võ Huỳnh Ngọc Bảo (30 tuổi, kỹ sư phần mềm) và Nguyễn Huỳnh Thủy Tiên (28 tuổi), trợ lý giám đốc là điển hình cho câu ca dao \"Đồng vợ đồng chồng, tát biển Đông cũng cạn\". Với mong muốn nâng cao khả năng tiếng Anh và sở hữu tấm bằng IELTS 7.0 để thêm nhiều cơ hội phát triển sự nghiệp, Bảo - Tiên cùng nhau lập kế hoạch và phấn đấu học tập, thành công chinh phục điểm 7.5 ấn tượng.Chia sẻ về hành trình học IELTS, cặp đôi cho biết: \"Vợ chồng mình luôn mong muốn cải thiện tiếng Anh để mở rộng cơ hội nghề nghiệp tương lai. Bên cạnh đó, hai vợ chồng cũng hướng tới đi du học để phát triển hơn nữa nên chọn học IELTS vì chứng chỉ này có thể khẳng định khả năng sử dụng tiếng Anh toàn diện đồng thời là điều kiện để hoàn thành hồ sơ du học\".Do vẫn đang sử dụng tiếng Anh trong công việc hàng ngày, cặp đôi đã tìm hiểu kỹ về chứng chỉ và sắp xếp thời gian tự học sau giờ làm.\"\"\"\n",
    "\n",
    "print(\"a) Độ dài của đoạn văn và số từ\")\n",
    "Do_dai= len(Doan_van)\n",
    "So_tu = len(Doan_van.split())\n",
    "\n",
    "print(f\"Độ dài đoạn văn: {Do_dai} ký tự\")\n",
    "print(f\"Số từ trong đoạn văn: {So_tu}\\n\")\n",
    "\n",
    "print(\"b) Số ký tự 'a' và 'A'\")\n",
    "so_a = Doan_van.count('a')\n",
    "so_A = Doan_van.count('A')\n",
    "\n",
    "print(f\"Số ký tự 'a': {so_a}\")\n",
    "print(f\"Số ký tự 'A': {so_A}\\n\")\n",
    "\n",
    "print(\"c) Số ký tự là chữ cái và chữ số\")\n",
    "So_chu= sum(c.isalpha() for c in Doan_van)\n",
    "So_chu_so= sum(c.isdigit()for c in Doan_van)\n",
    "\n",
    "print(f\"Số ký tự là chữ cái: {So_chu}\")\n",
    "print(f\"Số ký tự là chữ số: {So_chu_so}\\n\")\n",
    "\n",
    "print(\"d) Kiểm tra xem đoạn căn có là xâu đối xứng không\")\n",
    "\n",
    "is_palindrome = Doan_van.replace(\" \", \"\").lower() == Doan_van.replace(\" \", \"\").lower()[::-1]\n",
    "result_palindrome = \"đối xứng\" if is_palindrome else \"không đối xứng\"\n",
    "print(f\"Đoạn văn này là xâu đối xứng: {result_palindrome}\")"
   ]
  },
  {
   "cell_type": "markdown",
   "metadata": {},
   "source": [
    "# Câu 3"
   ]
  },
  {
   "cell_type": "code",
   "execution_count": 35,
   "metadata": {},
   "outputs": [
    {
     "name": "stdout",
     "output_type": "stream",
     "text": [
      "a) Số lượng số âm\n",
      "Số lượng số âm trong dãy số a: 1\n",
      "\n",
      "b) Tổng các phần tử của dãy số\n",
      "Tổng các chữ số của a: 12.4\n",
      "\n",
      "c) Giá trị lớn nhất và nhỏ nhất của dãy số a\n",
      "Giá trị lớn nhất: 5.9 \n",
      "Giá trị nhỏ nhất: -2\n",
      "\n",
      "d) Giá trị lớn nhì và nhỏ nhì\n",
      "Giá trị lớn nhì: 4.5\n",
      "Giá trị nhỏ nhì: 1\n",
      "e) Sắp xếp dãy số a theo giá trị các phần tử tăng dần\n",
      "Dãy số a sau khi sắp xếp: [-2, 1, 3, 4.5, 5.9]\n"
     ]
    }
   ],
   "source": [
    "n= 5\n",
    "a= [1,-2,3,4.5,5.9]\n",
    "\n",
    "print(\"a) Số lượng số âm\")\n",
    "So_am = sum(1 for x in a if x <0)\n",
    "print(f\"Số lượng số âm trong dãy số a: {So_am}\\n\")\n",
    "\n",
    "print(\"b) Tổng các phần tử của dãy số\")\n",
    "tong_a = sum(a)\n",
    "print(f\"Tổng các chữ số của a: {tong_a}\\n\")\n",
    "\n",
    "print(\"c) Giá trị lớn nhất và nhỏ nhất của dãy số a\")\n",
    "gia_tri_nho_nhat = min(a)\n",
    "gia_tri_lon_nhat = max(a)\n",
    "print(f\"Giá trị lớn nhất: {gia_tri_lon_nhat} \\nGiá trị nhỏ nhất: {gia_tri_nho_nhat}\\n\")\n",
    "\n",
    "print(\"d) Giá trị lớn nhì và nhỏ nhì\")\n",
    "\n",
    "a_khong_trung = list(set(a))\n",
    "a_khong_trung.sort()\n",
    "\n",
    "if len(a_khong_trung)<2:\n",
    "    print(\"Dãy số không đủ ít nhất 2 giá trị khác nhau để tìm lớn nhì và nhỏ nhì\")\n",
    "else:\n",
    "    gia_tri_lon_nhi = a_khong_trung[-2]\n",
    "    gia_tri_nho_nhi = a_khong_trung[1]\n",
    "    \n",
    "    print(f\"Giá trị lớn nhì: {gia_tri_lon_nhi}\\nGiá trị nhỏ nhì: {gia_tri_nho_nhi}\")\n",
    "    \n",
    "print(\"e) Sắp xếp dãy số a theo giá trị các phần tử tăng dần\")\n",
    "a.sort()\n",
    "print(f\"Dãy số a sau khi sắp xếp: {a}\")\n",
    "    \n",
    "    "
   ]
  },
  {
   "cell_type": "markdown",
   "metadata": {},
   "source": [
    "# Câu 4"
   ]
  },
  {
   "cell_type": "code",
   "execution_count": 5,
   "metadata": {},
   "outputs": [
    {
     "name": "stdout",
     "output_type": "stream",
     "text": [
      "Dãy số A là: [12, 4, 86, 74, 89]\n",
      "Số phần tử của danh sách A: 5\n",
      "Giá trị lớn nhất trong A: 89\n",
      "Giá trị nhỏ nhất trong A: 4\n",
      "Tổng các chữ số trong A: 265\n",
      "Giá trị trung bình: 53.00\n"
     ]
    }
   ],
   "source": [
    "A = []\n",
    "N = int(input(\"Nhập số nguyên dương: \"))\n",
    "for i in range(N):\n",
    "    x=int(input(\"Nhập số thứ \"+ str(i+1)+ \":\"))\n",
    "    A.append(x)\n",
    "print(f\"Dãy số A là: {A}\")\n",
    "\n",
    "print(f\"Số phần tử của danh sách A: {len(A)}\")\n",
    "print(f\"Giá trị lớn nhất trong A: {max(A)}\")\n",
    "print(f\"Giá trị nhỏ nhất trong A: {min(A)}\")\n",
    "print(f\"Tổng các chữ số trong A: {sum(A)}\")\n",
    "print(f\"Giá trị trung bình: { sum(A)/len(A):.2f}\")"
   ]
  },
  {
   "cell_type": "markdown",
   "metadata": {},
   "source": [
    "# Câu 5"
   ]
  },
  {
   "cell_type": "code",
   "execution_count": 20,
   "metadata": {},
   "outputs": [
    {
     "name": "stdout",
     "output_type": "stream",
     "text": [
      "Tuple A ban đầu: (1, 2, 3, 4, 5, 6, 7, 8, 9, 10)\n",
      "Tuple A dau khi chèn B: (1, 2, 3, 4, 5, 6, 7, 8, 9, 10, 11, 12, 13, 14, 15, 16, 17, 18, 19, 20)\n",
      "Số lượng phần tử của A: 20\n"
     ]
    }
   ],
   "source": [
    "A =tuple(range(1,11))\n",
    "print(f\"Tuple A ban đầu: {A}\")\n",
    "\n",
    "B= tuple(range(11,21))\n",
    "\n",
    "A=A+B\n",
    "\n",
    "print(f\"Tuple A dau khi chèn B: {A}\")\n",
    "print(f\"Số lượng phần tử của A: {len(A)}\")"
   ]
  },
  {
   "cell_type": "markdown",
   "metadata": {},
   "source": [
    "# Câu 6"
   ]
  },
  {
   "cell_type": "code",
   "execution_count": 1,
   "metadata": {},
   "outputs": [],
   "source": [
    "mhv =1\n",
    "dshv ={\n",
    "    'mã học viên': [],\n",
    "    'tên học viên':[],\n",
    "    'năm sinh':[],\n",
    "    'quê quán':[],\n",
    "    'điểm trung bình':[]\n",
    "}"
   ]
  },
  {
   "cell_type": "code",
   "execution_count": 12,
   "metadata": {},
   "outputs": [
    {
     "name": "stdout",
     "output_type": "stream",
     "text": [
      "Kết thúc!\n"
     ]
    }
   ],
   "source": [
    "while True:\n",
    "    tenhv = str(input('Nhập tên học viên (nhập end nếu muốn kết thúc):'))\n",
    "    if tenhv == 'end' or tenhv == 'End':\n",
    "        print('Kết thúc!')\n",
    "        break\n",
    "    else:\n",
    "        dshv['mã học viên'].append('K0{}'.format(mhv))\n",
    "        dshv['tên học viên'].append(tenhv)\n",
    "        dshv['năm sinh'].append(str(input(\"Nhập năm sinh: \")))\n",
    "        dshv['quê quán'].append(str(input(\"Nhập quê quán: \")))\n",
    "        dshv['điểm trung bình'].append(float(input(\"Nhập điển trung bình: \")))\n",
    "        mhv = mhv+1"
   ]
  },
  {
   "cell_type": "code",
   "execution_count": 47,
   "metadata": {},
   "outputs": [
    {
     "name": "stdout",
     "output_type": "stream",
     "text": [
      "K01, huhu, 2022, hanoi, 8.88\n",
      "K02, thai, 2024, hanoi, 8.88\n",
      "K03, ha, 2008, hanoi, 8.88\n",
      "K04, hehe, 2004, haiphong, 5.0\n",
      "K05, , , , 9.0\n"
     ]
    },
    {
     "ename": "IndexError",
     "evalue": "list index out of range",
     "output_type": "error",
     "traceback": [
      "\u001b[1;31m---------------------------------------------------------------------------\u001b[0m",
      "\u001b[1;31mIndexError\u001b[0m                                Traceback (most recent call last)",
      "Cell \u001b[1;32mIn[47], line 2\u001b[0m\n\u001b[0;32m      1\u001b[0m \u001b[38;5;28;01mfor\u001b[39;00m i \u001b[38;5;129;01min\u001b[39;00m \u001b[38;5;28mrange\u001b[39m(\u001b[38;5;28mlen\u001b[39m(dshv[\u001b[38;5;124m'\u001b[39m\u001b[38;5;124mmã học viên\u001b[39m\u001b[38;5;124m'\u001b[39m])):\n\u001b[1;32m----> 2\u001b[0m     \u001b[38;5;28mprint\u001b[39m(\u001b[38;5;124mf\u001b[39m\u001b[38;5;124m\"\u001b[39m\u001b[38;5;132;01m{\u001b[39;00mdshv[\u001b[38;5;124m'\u001b[39m\u001b[38;5;124mmã học viên\u001b[39m\u001b[38;5;124m'\u001b[39m][i]\u001b[38;5;132;01m}\u001b[39;00m\u001b[38;5;124m, \u001b[39m\u001b[38;5;132;01m{\u001b[39;00mdshv[\u001b[38;5;124m'\u001b[39m\u001b[38;5;124mtên học viên\u001b[39m\u001b[38;5;124m'\u001b[39m][i]\u001b[38;5;132;01m}\u001b[39;00m\u001b[38;5;124m, \u001b[39m\u001b[38;5;132;01m{\u001b[39;00mdshv[\u001b[38;5;124m'\u001b[39m\u001b[38;5;124mnăm sinh\u001b[39m\u001b[38;5;124m'\u001b[39m][i]\u001b[38;5;132;01m}\u001b[39;00m\u001b[38;5;124m, \u001b[39m\u001b[38;5;132;01m{\u001b[39;00mdshv[\u001b[38;5;124m'\u001b[39m\u001b[38;5;124mquê quán\u001b[39m\u001b[38;5;124m'\u001b[39m][i]\u001b[38;5;132;01m}\u001b[39;00m\u001b[38;5;124m, \u001b[39m\u001b[38;5;132;01m{\u001b[39;00m\u001b[43mdshv\u001b[49m\u001b[43m[\u001b[49m\u001b[38;5;124;43m'\u001b[39;49m\u001b[38;5;124;43mđiểm trung bình\u001b[39;49m\u001b[38;5;124;43m'\u001b[39;49m\u001b[43m]\u001b[49m\u001b[43m[\u001b[49m\u001b[43mi\u001b[49m\u001b[43m]\u001b[49m\u001b[38;5;132;01m}\u001b[39;00m\u001b[38;5;124m\"\u001b[39m)\n",
      "\u001b[1;31mIndexError\u001b[0m: list index out of range"
     ]
    }
   ],
   "source": [
    "for i in range(len(dshv['mã học viên'])):\n",
    "    print(f\"{dshv['mã học viên'][i]}, {dshv['tên học viên'][i]}, {dshv['năm sinh'][i]}, {dshv['quê quán'][i]}, {dshv['điểm trung bình'][i]}\")\n"
   ]
  },
  {
   "cell_type": "code",
   "execution_count": 48,
   "metadata": {},
   "outputs": [
    {
     "ename": "TypeError",
     "evalue": "string indices must be integers, not 'str'",
     "output_type": "error",
     "traceback": [
      "\u001b[1;31m---------------------------------------------------------------------------\u001b[0m",
      "\u001b[1;31mTypeError\u001b[0m                                 Traceback (most recent call last)",
      "Cell \u001b[1;32mIn[48], line 2\u001b[0m\n\u001b[0;32m      1\u001b[0m \u001b[38;5;28;01mfor\u001b[39;00m student \u001b[38;5;129;01min\u001b[39;00m dshv:\n\u001b[1;32m----> 2\u001b[0m     \u001b[38;5;28;01mif\u001b[39;00m \u001b[43mstudent\u001b[49m\u001b[43m[\u001b[49m\u001b[38;5;124;43m'\u001b[39;49m\u001b[38;5;124;43mmã học viên\u001b[39;49m\u001b[38;5;124;43m'\u001b[39;49m\u001b[43m]\u001b[49m \u001b[38;5;241m==\u001b[39m \u001b[38;5;124m'\u001b[39m\u001b[38;5;124mK02\u001b[39m\u001b[38;5;124m'\u001b[39m:\n\u001b[0;32m      3\u001b[0m         student[\u001b[38;5;124m'\u001b[39m\u001b[38;5;124mtên học viên\u001b[39m\u001b[38;5;124m'\u001b[39m] \u001b[38;5;241m=\u001b[39m \u001b[38;5;124m'\u001b[39m\u001b[38;5;124mNguyễn Sửa Đổi\u001b[39m\u001b[38;5;124m'\u001b[39m\n\u001b[0;32m      4\u001b[0m         student[\u001b[38;5;124m'\u001b[39m\u001b[38;5;124mnăm sinh\u001b[39m\u001b[38;5;124m'\u001b[39m] \u001b[38;5;241m=\u001b[39m \u001b[38;5;124m'\u001b[39m\u001b[38;5;124m2001\u001b[39m\u001b[38;5;124m'\u001b[39m\n",
      "\u001b[1;31mTypeError\u001b[0m: string indices must be integers, not 'str'"
     ]
    }
   ],
   "source": [
    "for student in dshv:\n",
    "    if student['mã học viên'] == 'K02':\n",
    "        student['tên học viên'] = 'Nguyễn Sửa Đổi'\n",
    "        student['năm sinh'] = '2001'\n",
    "        student['quê quán'] = 'Hà Nội'\n",
    "        student['điểm trung bình'] = 7.2\n"
   ]
  },
  {
   "cell_type": "markdown",
   "metadata": {},
   "source": [
    "# Câu 7"
   ]
  },
  {
   "cell_type": "code",
   "execution_count": 4,
   "metadata": {},
   "outputs": [
    {
     "name": "stdout",
     "output_type": "stream",
     "text": [
      "Tên sinh viên và điểm trung bình:\n",
      "Huy: 8.00\n",
      "Hà: 7.67\n",
      "Long: 6.00\n"
     ]
    }
   ],
   "source": [
    "# Đọc file Sinhvien.txt vào danh sách\n",
    "danh_sach_sinh_vien = []\n",
    "\n",
    "with open('Sinhvien.txt', 'r', encoding='utf-8') as file:\n",
    "    for line in file:\n",
    "        parts = line.strip().split()  # Tách từng dòng thành danh sách\n",
    "        ten_sinh_vien = parts[0]  # Tên sinh viên\n",
    "        diem_toan = int(parts[1])  # Điểm môn Toán\n",
    "        diem_tin = int(parts[2])   # Điểm môn Tin\n",
    "        diem_ngoai_ngu = int(parts[3])  # Điểm môn Ngoại ngữ\n",
    "        diem_trung_binh = (diem_toan + diem_tin + diem_ngoai_ngu) / 3  # Tính điểm trung bình\n",
    "        \n",
    "        # Thêm vào danh sách sinh viên dưới dạng từ điển\n",
    "        danh_sach_sinh_vien.append({\n",
    "            'tên': ten_sinh_vien,\n",
    "            'điểm': [diem_toan, diem_tin, diem_ngoai_ngu],\n",
    "            'điểm trung bình': diem_trung_binh\n",
    "        })\n",
    "\n",
    "# b) Hiển thị tên sinh viên và điểm trung bình\n",
    "# Sắp xếp danh sách theo tên sinh viên\n",
    "danh_sach_sinh_vien.sort(key=lambda sv: sv['tên'])\n",
    "\n",
    "print(\"Tên sinh viên và điểm trung bình:\")\n",
    "for sv in danh_sach_sinh_vien:\n",
    "    print(f\"{sv['tên']}: {sv['điểm trung bình']:.2f}\")\n"
   ]
  }
 ],
 "metadata": {
  "kernelspec": {
   "display_name": "Python 3",
   "language": "python",
   "name": "python3"
  },
  "language_info": {
   "codemirror_mode": {
    "name": "ipython",
    "version": 3
   },
   "file_extension": ".py",
   "mimetype": "text/x-python",
   "name": "python",
   "nbconvert_exporter": "python",
   "pygments_lexer": "ipython3",
   "version": "3.11.5"
  }
 },
 "nbformat": 4,
 "nbformat_minor": 2
}
