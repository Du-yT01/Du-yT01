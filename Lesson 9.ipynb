{
 "cells": [
  {
   "cell_type": "code",
   "execution_count": 1,
   "metadata": {},
   "outputs": [],
   "source": [
    "import pandas as pd\n",
    "import numpy as np\n",
    "import math"
   ]
  },
  {
   "cell_type": "markdown",
   "metadata": {},
   "source": [
    "# Câu 1"
   ]
  },
  {
   "cell_type": "code",
   "execution_count": 14,
   "metadata": {},
   "outputs": [
    {
     "name": "stdout",
     "output_type": "stream",
     "text": [
      "Dòng 1 của danh sách\n",
      " Tên          Nhi\n",
      "Tuổi          19\n",
      "Giới Tính     Nữ\n",
      "Name: 1, dtype: object\n",
      "\n",
      "Dòng 2 và 3 của danh sách\n",
      "     Tên  Tuổi Giới Tính\n",
      "2   Lan    20        Nữ\n",
      "3  Tuấn    21       Nam\n",
      "\n",
      "Hai dòng đầu của danh sách\n",
      "    Tên  Tuổi Giới Tính\n",
      "0  Huy    20       Nam\n",
      "1  Nhi    19        Nữ\n",
      "\n",
      "Thông tin 3 dòng đầu là\n",
      "     Tên  Tuổi Giới Tính\n",
      "1   Nhi    19        Nữ\n",
      "2   Lan    20        Nữ\n",
      "3  Tuấn    21       Nam\n"
     ]
    }
   ],
   "source": [
    "Data = {\"Tên\":['Huy','Nhi','Lan','Tuấn'],\n",
    "       \"Tuổi\":[20,19,20,21],\n",
    "       \"Giới Tính\":['Nam','Nữ','Nữ','Nam']}\n",
    "\n",
    "df = pd.DataFrame(Data)\n",
    "\n",
    "# a) in một dòng\n",
    "print(\"Dòng 1 của danh sách\\n\",df.loc[1])\n",
    "\n",
    "# b) in dòng 2, 3\n",
    "print(\"\\nDòng 2 và 3 của danh sách\\n\",df.loc[[2,3]])\n",
    "\n",
    "# c) in 2 dòng đầu\n",
    "print(\"\\nHai dòng đầu của danh sách\\n\",df.head(2))\n",
    "\n",
    "# d) in dòng 1,2,3\n",
    "print(\"\\nThông tin 3 dòng đầu là\\n\",df[1:4])"
   ]
  },
  {
   "cell_type": "markdown",
   "metadata": {},
   "source": [
    "# Câu 2"
   ]
  },
  {
   "cell_type": "code",
   "execution_count": null,
   "metadata": {},
   "outputs": [],
   "source": [
    "Data = {\"Tên\":['Huy','Nhi','Lan','Tuấn'],\n",
    "       \"Tuổi\":[20,19,20,21],\n",
    "       \"Giới Tính\":['Nam','Nữ','Nữ','Nam']}\n",
    "df = pd.DataFrame(Data)\n",
    "\n",
    "# a) thông tin tổng quát\n",
    "df.info()\n",
    "\n",
    "# b) thông tin mô tả\n",
    "print(\"\\nThông tin thống kê danh sách:\\n\",df.describe())\n"
   ]
  },
  {
   "cell_type": "code",
   "execution_count": 24,
   "metadata": {},
   "outputs": [
    {
     "name": "stdout",
     "output_type": "stream",
     "text": [
      "\n",
      "Danh sách nam:\n",
      "     Tên  Tuổi Giới Tính\n",
      "0   Huy    20       Nam\n",
      "3  Tuấn    21       Nam\n",
      "\n",
      "Danh sách nữ:\n",
      "    Tên  Tuổi Giới Tính\n",
      "1  Nhi    19        Nữ\n",
      "2  Lan    20        Nữ\n",
      "\n",
      "Dữ liệu có tuổi từ 20 đổ xuống:    Tên  Tuổi Giới Tính\n",
      "0  Huy    20       Nam\n",
      "1  Nhi    19        Nữ\n",
      "2  Lan    20        Nữ\n"
     ]
    }
   ],
   "source": [
    "# c) in danh sách nữ và nam\n",
    "\n",
    "print(\"\\nDanh sách nam:\\n\", df[df['Giới Tính']=='Nam'])\n",
    "\n",
    "print(\"\\nDanh sách nữ:\\n\", df[df['Giới Tính']== 'Nữ'])\n",
    "\n",
    "# d) Danh sách tuổi dưới 20\n",
    "\n",
    "print(\"\\nDữ liệu có tuổi từ 20 đổ xuống:\",df[df['Tuổi'] <= 20])\n"
   ]
  },
  {
   "cell_type": "markdown",
   "metadata": {},
   "source": [
    "# Câu 3"
   ]
  },
  {
   "cell_type": "code",
   "execution_count": 31,
   "metadata": {},
   "outputs": [
    {
     "name": "stdout",
     "output_type": "stream",
     "text": [
      "DataFrame từ dữ liệu trên:\n",
      "     Duration  Pulse  Maxpulse  Calories\n",
      "0         60    110       130     409.1\n",
      "1         60    117       145     479.0\n",
      "2         60    103       135     340.0\n",
      "3         45    109       175     282.4\n",
      "4         45    117       148     406.0\n",
      "5         60    102       127     300.0\n",
      "6         60    110       136     374.0\n",
      "7         45    104       134     253.3\n",
      "8         30    109       133     195.1\n",
      "9         60     98       124     269.0\n",
      "10        60    103       147     329.3\n",
      "DataFrame theo điều kiện là:\n",
      "    Duration  Pulse  Maxpulse  Calories\n",
      "0        60    110       130     409.1\n",
      "1        60    117       145     479.0\n",
      "4        45    117       148     406.0\n",
      "8        30    109       133     195.1\n",
      "Số dòng của dữ liệu mới này: 4\n"
     ]
    },
    {
     "name": "stderr",
     "output_type": "stream",
     "text": [
      "C:\\Users\\LENOVO\\AppData\\Local\\Temp\\ipykernel_9808\\2933269592.py:2: FutureWarning: The 'delim_whitespace' keyword in pd.read_csv is deprecated and will be removed in a future version. Use ``sep='\\s+'`` instead\n",
      "  df = pd.read_csv(\"Lesson 9-3.txt\",delim_whitespace=True )\n"
     ]
    }
   ],
   "source": [
    "# a) Đưa dữ liệu vào file và tạo dataframe\n",
    "df = pd.read_csv(\"Lesson 9-3.txt\",delim_whitespace=True )\n",
    "\n",
    "print(\"DataFrame từ dữ liệu trên:\\n\",df)\n",
    "\n",
    "df2 = df[(df['Calories']>400) | (df['Calories']<200)]\n",
    "\n",
    "print(\"DataFrame theo điều kiện là:\\n\",df2)\n",
    "print(\"Số dòng của dữ liệu mới này:\",len(df2))"
   ]
  },
  {
   "cell_type": "code",
   "execution_count": null,
   "metadata": {},
   "outputs": [
    {
     "name": "stdout",
     "output_type": "stream",
     "text": [
      "\n",
      "DataFrame với Calories > 400 hoặc < 200:\n",
      "   Duration  Pulse  Maxpulse  Calories\n",
      "0        60    110       130     409.1\n",
      "1        60    117       145     479.0\n",
      "4        45    117       148     406.0\n",
      "8        30    109       133     195.1\n",
      "Số dòng của dữ liệu mới này: 4\n"
     ]
    }
   ],
   "source": [
    "# b) Tạo df2 với điều kiện Calories > 400 hoặc Calories < 200\n",
    "df2 = df[(df['Calories'] > 400) | (df['Calories'] < 200)]\n",
    "\n",
    "print(\"\\nDataFrame với Calories > 400 hoặc < 200:\")\n",
    "print(df2)\n",
    "print(f\"Số dòng của dữ liệu mới này: {len(df2)}\")\n"
   ]
  },
  {
   "cell_type": "code",
   "execution_count": 34,
   "metadata": {},
   "outputs": [
    {
     "name": "stdout",
     "output_type": "stream",
     "text": [
      "\n",
      "Dữ liệu có Duration = 60:\n",
      "     Duration  Pulse  Maxpulse  Calories\n",
      "0         60    110       130     409.1\n",
      "1         60    117       145     479.0\n",
      "2         60    103       135     340.0\n",
      "5         60    102       127     300.0\n",
      "6         60    110       136     374.0\n",
      "9         60     98       124     269.0\n",
      "10        60    103       147     329.3\n"
     ]
    }
   ],
   "source": [
    "# c) hiển thị dữ liệu có duration = 60\n",
    "\n",
    "duration_60 = df[df['Duration'] == 60]\n",
    "\n",
    "print(f\"\\nDữ liệu có Duration = 60:\\n {duration_60}\")"
   ]
  },
  {
   "cell_type": "markdown",
   "metadata": {},
   "source": [
    "# Câu 4"
   ]
  },
  {
   "cell_type": "code",
   "execution_count": 45,
   "metadata": {},
   "outputs": [
    {
     "name": "stdout",
     "output_type": "stream",
     "text": [
      "\n",
      " Thông tin mô tả của dataframe là:\n",
      "           number\n",
      "count   3.000000\n",
      "mean   22.333333\n",
      "std     2.516611\n",
      "min    20.000000\n",
      "25%    21.000000\n",
      "50%    22.000000\n",
      "75%    23.500000\n",
      "max    25.000000\n",
      "\n",
      "Thông tin mô tả của DataFrame là:\n",
      "Tổng: 67\n",
      "Trung bình 22.333333333333332\n",
      "Nhỏ nhất 20\n",
      "Lớn nhất 25\n",
      "\n",
      "Thông tin mô tả của DataFrame là:\n",
      "Tổng: 67\n",
      "Trung bình 22.333\n",
      "Nhỏ nhất 20\n",
      "Lớn nhất 25\n"
     ]
    }
   ],
   "source": [
    "A = {'name': ['Huy', 'Mạnh', 'Linh'],\n",
    "\t 'number': [22, 25, 20]}\n",
    "\n",
    "df= pd.DataFrame(A)\n",
    "\n",
    "print(f\"\\n Thông tin mô tả của dataframe là:\\n {df.describe()}\")\n",
    "\n",
    "total = df['number'].sum()\n",
    "mean = df['number'].mean()\n",
    "min_value = df['number'].min()\n",
    "max_value = df['number'].max()\n",
    "variance = df['number'].var()\n",
    "std_dev = df['number'].std()\n",
    "print(f\"\\nThông tin mô tả của DataFrame là:\\n\" \n",
    "      f\"Tổng: {total}\\n\"      \n",
    "      f\"Trung bình {mean}\\n\"     \n",
    "      f\"Nhỏ nhất {min_value}\\n\"      \n",
    "      f\"Lớn nhất {max_value}\")\n",
    "\n",
    "print(f\"\\nThông tin mô tả của DataFrame là:\\nTổng: {total}\\nTrung bình {mean:.3f}\\nNhỏ nhất {min_value}\\nLớn nhất {max_value}\")\n",
    "\n"
   ]
  },
  {
   "cell_type": "markdown",
   "metadata": {},
   "source": [
    "# Câu 5"
   ]
  },
  {
   "cell_type": "code",
   "execution_count": null,
   "metadata": {},
   "outputs": [
    {
     "data": {
      "text/plain": [
       "<bound method NDFrame.head of                Họ Tên Giới Tính Lớp  Điểm TB\n",
       "0   Nguyễn Trung Kiên       Nam  7A      8.2\n",
       "1        Lê Việt Dũng       Nam  8B      7.5\n",
       "2     Dương Hồng Minh        Nữ  8C      6.9\n",
       "3       Dương Hải Yến        Nữ  9B      8.1\n",
       "4       Đào Tường Lam        Nữ  6B      6.8\n",
       "5      Lương Tuấn Anh       Nam  8A      7.5\n",
       "6       Đặng Văn Toàn       Nam  9A      8.3\n",
       "7    Luyện Minh Hoàng       Nam  8C      6.4\n",
       "8    Nguyễn Thu Hương        Nữ  7C      6.7\n",
       "9         Lê Quốc Đại       Nam  6C      5.9\n",
       "10  Nguyễn Thị Trà My        Nữ  8B      6.6\n",
       "11        Vũ Thị Hồng        Nữ  6A      7.0>"
      ]
     },
     "execution_count": 47,
     "metadata": {},
     "output_type": "execute_result"
    }
   ],
   "source": [
    "# a) Đưa dữ liệu vào file CSV sau đó tạo dataframe cho tập dữ liệu đó\n",
    "df = pd.read_csv('hoc_sinh.csv')\n",
    "df.head"
   ]
  },
  {
   "cell_type": "code",
   "execution_count": 48,
   "metadata": {},
   "outputs": [
    {
     "name": "stdout",
     "output_type": "stream",
     "text": [
      "Danh sách học sinh\n",
      "                Họ Tên Giới Tính Lớp  Điểm TB\n",
      "0   Nguyễn Trung Kiên       Nam  7A      8.2\n",
      "1        Lê Việt Dũng       Nam  8B      7.5\n",
      "2     Dương Hồng Minh        Nữ  8C      6.9\n",
      "3       Dương Hải Yến        Nữ  9B      8.1\n",
      "4       Đào Tường Lam        Nữ  6B      6.8\n",
      "5      Lương Tuấn Anh       Nam  8A      7.5\n",
      "6       Đặng Văn Toàn       Nam  9A      8.3\n",
      "7    Luyện Minh Hoàng       Nam  8C      6.4\n",
      "8    Nguyễn Thu Hương        Nữ  7C      6.7\n",
      "9         Lê Quốc Đại       Nam  6C      5.9\n",
      "10  Nguyễn Thị Trà My        Nữ  8B      6.6\n",
      "11        Vũ Thị Hồng        Nữ  6A      7.0\n",
      "Tổng số lượng học sinh là: 12\n"
     ]
    }
   ],
   "source": [
    "# b) tạo dataframe và hiển thị danh sách học sinh kèm tổng số lượng học sinh\n",
    "print(\"Danh sách học sinh\\n\",df)\n",
    "print(f\"Tổng số lượng học sinh là: {len(df)}\")"
   ]
  },
  {
   "cell_type": "code",
   "execution_count": 58,
   "metadata": {},
   "outputs": [
    {
     "name": "stdout",
     "output_type": "stream",
     "text": [
      "['6A', '6B', '6C', '7A', '7C', '8A', '8B', '8C', '9A', '9B']\n"
     ]
    }
   ],
   "source": [
    "# c) Hiển thị lớp và tổng học sinh\n",
    "\n",
    "df_lop = sorted(df['Lớp'].unique())\n",
    "print(df_lop)\n"
   ]
  },
  {
   "cell_type": "code",
   "execution_count": 62,
   "metadata": {},
   "outputs": [
    {
     "name": "stdout",
     "output_type": "stream",
     "text": [
      "\n",
      "Thông tin học viên số 2 là:\n",
      "Họ Tên       Lê Việt Dũng\n",
      "Giới Tính             Nam\n",
      "Lớp                    8B\n",
      "Điểm TB               7.5\n",
      "Name: 1, dtype: object\n",
      "\n",
      "Thông tin học viên số 5 là:\n",
      "Họ Tên       Đào Tường Lam\n",
      "Giới Tính               Nữ\n",
      "Lớp                     6B\n",
      "Điểm TB                6.8\n",
      "Name: 4, dtype: object\n",
      "\n",
      "Thông tin học viên số 7 là:\n",
      "Họ Tên       Đặng Văn Toàn\n",
      "Giới Tính              Nam\n",
      "Lớp                     9A\n",
      "Điểm TB                8.3\n",
      "Name: 6, dtype: object\n",
      "\n",
      "Thông tin học viên số 10 là:\n",
      "Họ Tên       Lê Quốc Đại\n",
      "Giới Tính            Nam\n",
      "Lớp                   6C\n",
      "Điểm TB              5.9\n",
      "Name: 9, dtype: object\n",
      "\n",
      "Thông tin học viên số 11 là:\n",
      "Họ Tên       Nguyễn Thị Trà My\n",
      "Giới Tính                   Nữ\n",
      "Lớp                         8B\n",
      "Điểm TB                    6.6\n",
      "Name: 10, dtype: object\n"
     ]
    }
   ],
   "source": [
    "# d) thông tin học sinh số 2,5,7,10,11\n",
    "\n",
    "for index in [1,4,6,9,10]:\n",
    "    print(f\"\\nThông tin học viên số {index+1} là:\\n{df.iloc[index]}\")"
   ]
  },
  {
   "cell_type": "code",
   "execution_count": 64,
   "metadata": {},
   "outputs": [
    {
     "name": "stdout",
     "output_type": "stream",
     "text": [
      "\n",
      "Danh sách học sinh có điểm trung bình giảm dần:\n",
      "               Họ Tên Giới Tính Lớp  Điểm TB\n",
      "6       Đặng Văn Toàn       Nam  9A      8.3\n",
      "0   Nguyễn Trung Kiên       Nam  7A      8.2\n",
      "3       Dương Hải Yến        Nữ  9B      8.1\n",
      "1        Lê Việt Dũng       Nam  8B      7.5\n",
      "5      Lương Tuấn Anh       Nam  8A      7.5\n",
      "11        Vũ Thị Hồng        Nữ  6A      7.0\n",
      "2     Dương Hồng Minh        Nữ  8C      6.9\n",
      "4       Đào Tường Lam        Nữ  6B      6.8\n",
      "8    Nguyễn Thu Hương        Nữ  7C      6.7\n",
      "10  Nguyễn Thị Trà My        Nữ  8B      6.6\n",
      "7    Luyện Minh Hoàng       Nam  8C      6.4\n",
      "9         Lê Quốc Đại       Nam  6C      5.9\n"
     ]
    }
   ],
   "source": [
    "# e) danh sách học sinh có điểm tb giảm dần\n",
    "print(\"\\nDanh sách học sinh có điểm trung bình giảm dần:\")\n",
    "print(df.sort_values(by='Điểm TB', ascending=False))"
   ]
  },
  {
   "cell_type": "code",
   "execution_count": 65,
   "metadata": {},
   "outputs": [
    {
     "name": "stdout",
     "output_type": "stream",
     "text": [
      "\n",
      "3 học sinh có điểm trung bình cao nhất:\n",
      "              Họ Tên Giới Tính Lớp  Điểm TB\n",
      "6      Đặng Văn Toàn       Nam  9A      8.3\n",
      "0  Nguyễn Trung Kiên       Nam  7A      8.2\n",
      "3      Dương Hải Yến        Nữ  9B      8.1\n"
     ]
    }
   ],
   "source": [
    "# f) Lấy ra 3 học sinh có điểm trung bình cao nhất\n",
    "print(\"\\n3 học sinh có điểm trung bình cao nhất:\")\n",
    "print(df.nlargest(3, 'Điểm TB'))"
   ]
  }
 ],
 "metadata": {
  "kernelspec": {
   "display_name": "Python 3",
   "language": "python",
   "name": "python3"
  },
  "language_info": {
   "codemirror_mode": {
    "name": "ipython",
    "version": 3
   },
   "file_extension": ".py",
   "mimetype": "text/x-python",
   "name": "python",
   "nbconvert_exporter": "python",
   "pygments_lexer": "ipython3",
   "version": "3.11.5"
  }
 },
 "nbformat": 4,
 "nbformat_minor": 2
}
