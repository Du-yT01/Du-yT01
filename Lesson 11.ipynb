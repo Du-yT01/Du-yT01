{
 "cells": [
  {
   "cell_type": "code",
   "execution_count": 15,
   "metadata": {},
   "outputs": [],
   "source": [
    "import pandas as pd\n",
    "import numpy as np\n",
    "import math\n",
    "import json\n",
    "import requests\n",
    "from bs4 import BeautifulSoup\n",
    "import sqlite3\n"
   ]
  },
  {
   "cell_type": "markdown",
   "metadata": {},
   "source": [
    "# Bài 1"
   ]
  },
  {
   "cell_type": "code",
   "execution_count": 5,
   "metadata": {},
   "outputs": [
    {
     "name": "stdout",
     "output_type": "stream",
     "text": [
      "Thông tin nhân viên:\n",
      "          name  age  department\n",
      "0        John   30          IT\n",
      "1       Alice   35   Marketing\n",
      "2         Bob   25          HR\n",
      "3        Emma   28     Finance\n",
      "4         Tom   32  Operations\n",
      "5       Sarah   29       Sales\n",
      "6        Mike   40          IT\n",
      "7       Emily   33   Marketing\n",
      "8       David   27          HR\n",
      "9      Olivia   31     Finance\n",
      "10       Jack   36  Operations\n",
      "11     Sophia   34       Sales\n",
      "12     Daniel   26          IT\n",
      "13       Lily   30   Marketing\n",
      "14      Jacob   29          HR\n",
      "15        Ava   31     Finance\n",
      "16    William   33  Operations\n",
      "17        Mia   28       Sales\n",
      "18      Ethan   32          IT\n",
      "19      Grace   27   Marketing\n",
      "20      James   30          HR\n",
      "21  Charlotte   29     Finance\n",
      "22   Benjamin   35  Operations\n",
      "23     Harper   31       Sales\n"
     ]
    }
   ],
   "source": [
    "with open('data11.1.json', 'r') as file:\n",
    "    data = json.load(file)\n",
    "\n",
    "df = pd.DataFrame(data['employees'])\n",
    "\n",
    "print(\"Thông tin nhân viên:\\n\",df)"
   ]
  },
  {
   "cell_type": "code",
   "execution_count": 6,
   "metadata": {},
   "outputs": [
    {
     "name": "stdout",
     "output_type": "stream",
     "text": [
      "\n",
      "Thông tin nhân viên dưới 30 tuổi:\n",
      "         name  age department\n",
      "2         Bob   25         HR\n",
      "3        Emma   28    Finance\n",
      "5       Sarah   29      Sales\n",
      "8       David   27         HR\n",
      "12     Daniel   26         IT\n",
      "14      Jacob   29         HR\n",
      "17        Mia   28      Sales\n",
      "19      Grace   27  Marketing\n",
      "21  Charlotte   29    Finance\n"
     ]
    }
   ],
   "source": [
    "# b) hiển thị thông tin nhân viên dưới 30 tuổi\n",
    "\n",
    "print(\"\\nThông tin nhân viên dưới 30 tuổi:\")\n",
    "print(df[df['age']<30])"
   ]
  },
  {
   "cell_type": "code",
   "execution_count": 8,
   "metadata": {},
   "outputs": [
    {
     "name": "stdout",
     "output_type": "stream",
     "text": [
      "\n",
      "Thông tin nhân viên dưới 30 tuổi và trong phòng IT:\n",
      "     name  age department\n",
      "0    John   30         IT\n",
      "6    Mike   40         IT\n",
      "18  Ethan   32         IT\n"
     ]
    }
   ],
   "source": [
    "# c) hiển thị thông tin nhân viên từ 30 tuổi trở lên và department là IT\n",
    "\n",
    "print(\"\\nThông tin nhân viên dưới 30 tuổi và trong phòng IT:\")\n",
    "print(df[(df['age'] >=30) & (df['department'] == 'IT')])"
   ]
  },
  {
   "cell_type": "markdown",
   "metadata": {},
   "source": [
    "# Bài 2"
   ]
  },
  {
   "cell_type": "code",
   "execution_count": 12,
   "metadata": {},
   "outputs": [
    {
     "name": "stdout",
     "output_type": "stream",
     "text": [
      "DataFrame chứa thông tin bài viết:\n",
      "  Title                                            Content\n",
      "0        VFF hy vọng khán giả sẽ là \"cầu thủ thứ 12\" gi...\n"
     ]
    }
   ],
   "source": [
    "url = 'https://vnexpress.net/cdv-co-the-tro-lai-san-my-dinh-o-vong-loai-world-cup-4371699.html'\n",
    "r = requests.get(url)\n",
    "\n",
    "soup = BeautifulSoup(r.content, 'html.parser')\n",
    "\n",
    "title = soup.find('h1').text.strip()\n",
    "\n",
    "content = soup.find('article').text.strip()\n",
    "\n",
    "# Tạo DataFrame từ tiêu đề và nội dung\n",
    "data = {\n",
    "    'Title': [title],\n",
    "    'Content': [content]\n",
    "}\n",
    "\n",
    "df = pd.DataFrame(data)\n",
    "\n",
    "# In ra DataFrame\n",
    "print(\"DataFrame chứa thông tin bài viết:\")\n",
    "print(df)"
   ]
  },
  {
   "cell_type": "markdown",
   "metadata": {},
   "source": [
    "# Câu 3"
   ]
  },
  {
   "cell_type": "code",
   "execution_count": 13,
   "metadata": {},
   "outputs": [
    {
     "name": "stdout",
     "output_type": "stream",
     "text": [
      "Danh sách đánh giá:\n",
      "    orderid       itemid        cmtid       ctime     userid     shopid  \\\n",
      "0        0  20871541703  11771512293  1687023860  452569583  280964237   \n",
      "1        0  20871541703  11023355209  1679053242  889530096  280964237   \n",
      "2        0  20871541703  11041449340  1679284881   65759536  280964237   \n",
      "3        0  20871541703  11958558795  1689038121   30086792  280964237   \n",
      "4        0  20871541703  12742961678  1696241711  405462667  280964237   \n",
      "5        0  20871541703  11425515751  1683341438    8847288  280964237   \n",
      "\n",
      "                                             comment  rating_star  \\\n",
      "0  Dành cho tóc:mỏng nha ae ib cho shop tư vấn là...            5   \n",
      "1  Dành cho tóc:tóc mỏng, nhiều dầu\\n\\nĐánh giá m...            5   \n",
      "2  Mùi rất dễ chịu\\nCó độ phồng và giữ nếp lâu\\nD...            5   \n",
      "3  Dành cho tóc:Tóc nam\\nMùi hương:mùi dịu nhẹ, d...            5   \n",
      "4  Sáp mềm lấy ra dễ, mùi hương dịu nhẹ đóng gói ...            5   \n",
      "5  Công dụng:sáp\\nMùi hương:gỗ\\nDành cho tóc:mỏng...            4   \n",
      "\n",
      "  author_username  author_shopid                         template_tags  \n",
      "0      bnguyen291      452550006  [Dành cho tóc, Mùi hương, Công dụng]  \n",
      "1      phantun334      889485393  [Mùi hương, Dành cho tóc, Công dụng]  \n",
      "2    da_boc_xuong       65758083                                   NaN  \n",
      "3      black1rose       30085408  [Dành cho tóc, Mùi hương, Công dụng]  \n",
      "4         p*****4      405443090                                   NaN  \n",
      "5       huytung48        8845992  [Công dụng, Mùi hương, Dành cho tóc]  \n",
      "Dữ liệu đã được xuất ra file 'shopee_ratings.xlsx'.\n"
     ]
    }
   ],
   "source": [
    "# API URL\n",
    "url = \"https://shopee.vn/api/v2/item/get_ratings\"\n",
    "params = {\n",
    "    'filter': 0,\n",
    "    'flag': 1,\n",
    "    'itemid': 20871541703,\n",
    "    'limit': 6,\n",
    "    'offset': 0,\n",
    "    'shopid': 280964237,\n",
    "    'type': 0\n",
    "}\n",
    "\n",
    "headers = {\n",
    "    'User-Agent': 'Mozilla/5.0 (Windows NT 10.0; Win64; x64) AppleWebKit/537.36 (KHTML, like Gecko) Chrome/110.0.0.0',\n",
    "    'X-Requested-With': 'XMLHttpRequest',\n",
    "    'Referer': 'https://shopee.tw/shop/1819984/search?shopCollection=9271157',\n",
    "}\n",
    "\n",
    "# Gửi yêu cầu GET tới API\n",
    "response = requests.get(url, headers=headers, params=params)\n",
    "\n",
    "# Đưa dữ liệu về dạng json\n",
    "data = response.json()\n",
    "\n",
    "# a) Lấy nhóm dữ liệu \"ratings\"\n",
    "ratings = data['data']['ratings']  # Giả sử nested structure\n",
    "\n",
    "# b) Chuyển dữ liệu sang DataFrame\n",
    "df_ratings = pd.DataFrame(ratings)\n",
    "\n",
    "# c) Hiển thị danh sách cột cụ thể\n",
    "columns_to_display = ['orderid', 'itemid', 'cmtid', 'ctime', 'userid', 'shopid', 'comment', 'rating_star', 'author_username', 'author_shopid', 'template_tags']\n",
    "df_filtered = df_ratings[columns_to_display]\n",
    "\n",
    "print(\"Danh sách đánh giá:\\n\", df_filtered)\n",
    "\n",
    "# d) Xuất ra file Excel\n",
    "df_filtered.to_excel(\"shopee_ratings.xlsx\", index=False)\n",
    "print(\"Dữ liệu đã được xuất ra file 'shopee_ratings.xlsx'.\")"
   ]
  },
  {
   "cell_type": "markdown",
   "metadata": {},
   "source": [
    "# Câu 4"
   ]
  },
  {
   "cell_type": "code",
   "execution_count": null,
   "metadata": {},
   "outputs": [
    {
     "name": "stdout",
     "output_type": "stream",
     "text": [
      "Bảng KhachHang đã được tạo.\n"
     ]
    }
   ],
   "source": [
    "# a) Tạo bảng mới ứng với các cột trong file\n",
    "\n",
    "# Kết nối đến cơ sở dữ liệu (nó sẽ tạo ra cơ sở dữ liệu nếu chưa có)\n",
    "conn = sqlite3.connect('khach_hang.db')\n",
    "\n",
    "# Tạo bảng mới (thay đổi tên và các cột theo nhu cầu)\n",
    "cur = conn.cursor()\n",
    "cur.execute('''\n",
    "CREATE TABLE IF NOT EXISTS KhachHang (\n",
    "    orderid INTEGER PRIMARY KEY,\n",
    "    itemid INTEGER,\n",
    "    cmtid INTEGER,\n",
    "    ctime TEXT,\n",
    "    userid TEXT,\n",
    "    shopid INTEGER,\n",
    "    comment TEXT,\n",
    "    rating_star INTEGER,\n",
    "    author_username TEXT,\n",
    "    author_shopid INTEGER,\n",
    "    template_tags TEXT\n",
    ")\n",
    "''')\n",
    "\n",
    "conn.commit()  # Lưu thay đổi\n",
    "print(\"Bảng KhachHang đã được tạo.\")\n"
   ]
  },
  {
   "cell_type": "code",
   "execution_count": null,
   "metadata": {},
   "outputs": [
    {
     "name": "stdout",
     "output_type": "stream",
     "text": [
      "Dữ liệu đã được chèn vào bảng KhachHang.\n"
     ]
    }
   ],
   "source": [
    "# b) Tạo DataFrame từ file và insert vào database\n",
    "df = pd.read_excel('shopee_ratings.xlsx')\n",
    "\n",
    "sql = '''INSERT OR IGNORE INTO KhachHang (orderid, itemid, cmtid, ctime, userid, shopid, comment, rating_star, author_username, author_shopid, template_tags)\n",
    "         VALUES (?, ?, ?, ?, ?, ?, ?, ?, ?, ?, ?)'''\n",
    "\n",
    "cur.executemany(sql, df.values.tolist())  # Chèn tất cả dữ liệu\n",
    "conn.commit()  # Lưu thay đổi\n",
    "print(\"Dữ liệu đã được chèn vào bảng KhachHang.\")\n",
    "\n",
    "\n"
   ]
  },
  {
   "cell_type": "code",
   "execution_count": 19,
   "metadata": {},
   "outputs": [
    {
     "name": "stdout",
     "output_type": "stream",
     "text": [
      "\n",
      "Dữ liệu trong bảng KhachHang:\n",
      "(0, 20871541703, 11771512293, '1687023860', '452569583', 280964237, 'Dành cho tóc:mỏng nha ae ib cho shop tư vấn là ok\\n\\nxời vít có một tí mà vuốt lên phát đứng form luôn ạ=))\\nchất khá mềm có mấy hạt ae bôi lên mới tan hay s ấy, hạt đấy dùng để hút dầu các thứ\\nmới dùng nma thấy giữ form ok phết', 5, 'bnguyen291', 452550006, \"['Dành cho tóc', 'Mùi hương', 'Công dụng']\")\n"
     ]
    }
   ],
   "source": [
    "# c)\n",
    "# Hiển thị dữ liệu trong bảng\n",
    "cur.execute(\"SELECT * FROM KhachHang\")\n",
    "rows = cur.fetchall()\n",
    "\n",
    "print(\"\\nDữ liệu trong bảng KhachHang:\")\n",
    "for row in rows:\n",
    "    print(row)\n"
   ]
  },
  {
   "cell_type": "code",
   "execution_count": 21,
   "metadata": {},
   "outputs": [
    {
     "name": "stdout",
     "output_type": "stream",
     "text": [
      "Tất cả dữ liệu đã được xoá trong bảng KhachHang.\n"
     ]
    }
   ],
   "source": [
    "# d) Xoá dữ liệu (Ví dụ: Xoá tất cả các bản ghi)\n",
    "cur.execute(\"DELETE FROM KhachHang\")\n",
    "\n",
    "conn.commit()  # Lưu thay đổi\n",
    "print(\"Tất cả dữ liệu đã được xoá trong bảng KhachHang.\")\n",
    "\n",
    "# Đóng kết nối\n",
    "conn.close()\n"
   ]
  }
 ],
 "metadata": {
  "kernelspec": {
   "display_name": "Python 3",
   "language": "python",
   "name": "python3"
  },
  "language_info": {
   "codemirror_mode": {
    "name": "ipython",
    "version": 3
   },
   "file_extension": ".py",
   "mimetype": "text/x-python",
   "name": "python",
   "nbconvert_exporter": "python",
   "pygments_lexer": "ipython3",
   "version": "3.11.5"
  }
 },
 "nbformat": 4,
 "nbformat_minor": 2
}
