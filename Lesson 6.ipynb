{
 "cells": [
  {
   "cell_type": "code",
   "execution_count": 12,
   "metadata": {},
   "outputs": [],
   "source": [
    "import math"
   ]
  },
  {
   "cell_type": "markdown",
   "metadata": {},
   "source": [
    "# Câu 1"
   ]
  },
  {
   "cell_type": "code",
   "execution_count": 1,
   "metadata": {},
   "outputs": [
    {
     "name": "stdout",
     "output_type": "stream",
     "text": [
      "Tổng: 13.0\n",
      "Hiệu: -5.0\n",
      "Thương:0.4444444444444444\n",
      "Tcish: 36.0\n"
     ]
    }
   ],
   "source": [
    "def tong(a,b):\n",
    "    return a+b\n",
    "\n",
    "def hieu(a,b):\n",
    "    return a-b\n",
    "\n",
    "def tich(a,b):\n",
    "    return a*b\n",
    "\n",
    "def thuong(a,b):\n",
    "    if b!= 0:\n",
    "        return a/b\n",
    "    else:\n",
    "        return \"Không thể chia cho 0\"\n",
    "    \n",
    "x= float(input(\"Nhập giá trị x: \"))\n",
    "y = float(input(\"Nhập giá trị y: \"))\n",
    "\n",
    "print(f\"Tổng: {tong(x,y)}\")\n",
    "print(f\"Hiệu: {hieu(x,y)}\")\n",
    "print(f\"Thương:{thuong(x,y)}\")\n",
    "print(f\"Tcish: {tich(x,y)}\")"
   ]
  },
  {
   "cell_type": "markdown",
   "metadata": {},
   "source": [
    "# Câu 2"
   ]
  },
  {
   "cell_type": "code",
   "execution_count": 6,
   "metadata": {},
   "outputs": [
    {
     "name": "stdout",
     "output_type": "stream",
     "text": [
      "Kết quả của 8 + 88 + 888 + 8888 = 9872\n"
     ]
    }
   ],
   "source": [
    "def tinh_cong(a):\n",
    "    n = int(a)\n",
    "    tong = 0      \n",
    "    for i in range(1, 5):  \n",
    "        current_value = int(str(n) * i) \n",
    "        tong += current_value \n",
    "    \n",
    "    return tong\n",
    "\n",
    "\n",
    "a = input(\"Nhập một số nguyên: \")\n",
    "result = tinh_cong(a)\n",
    "\n",
    "print(f\"Kết quả của {a} + {a*2} + {a*3} + {a*4} = {result}\")\n"
   ]
  },
  {
   "cell_type": "markdown",
   "metadata": {},
   "source": [
    "# Câu 3"
   ]
  },
  {
   "cell_type": "code",
   "execution_count": null,
   "metadata": {},
   "outputs": [],
   "source": [
    "def hien_thi_xau(xau, k):\n",
    "    for i in range(k):\n",
    "        print(xau)\n",
    "\n",
    "xau_ky_tu = input(\"Nhập xâu ký tự: \")\n",
    "k = int(input(\"Nhập số lần hiển thị: \"))\n",
    "\n",
    "hien_thi_xau(xau_ky_tu, k)\n"
   ]
  },
  {
   "cell_type": "markdown",
   "metadata": {},
   "source": [
    "# Câu 4"
   ]
  },
  {
   "cell_type": "code",
   "execution_count": 11,
   "metadata": {},
   "outputs": [
    {
     "name": "stdout",
     "output_type": "stream",
     "text": [
      "Tổng bình phương của 5.0, 9.0 là: 106.0\n"
     ]
    }
   ],
   "source": [
    "def tinh_tong_binh_phuong(x,y):\n",
    "    return x**2 + y**2\n",
    "x=float(input(\"Nhập số a:\"))\n",
    "y=float(input(\"Nhập số b:\"))\n",
    "\n",
    "result = tinh_tong_binh_phuong(x,y)\n",
    "print(f\"Tổng bình phương của {x}, {y} là: {result}\")"
   ]
  },
  {
   "cell_type": "markdown",
   "metadata": {},
   "source": [
    "# Câu 5"
   ]
  },
  {
   "cell_type": "code",
   "execution_count": 24,
   "metadata": {},
   "outputs": [
    {
     "name": "stdout",
     "output_type": "stream",
     "text": [
      "Chu vi hình tròn là: 16.34\n",
      "Diện tích hình tròn là: 21.24\n"
     ]
    }
   ],
   "source": [
    "def tinh_chu_vi_dien_tich(ban_kinh):\n",
    "    \n",
    "    chu_vi = 2*math.pi*ban_kinh\n",
    "    dien_tich= math.pi* (ban_kinh**2)\n",
    "    return chu_vi, dien_tich\n",
    "ban_kinh = float(input(\"Nhập bán kính hình trong: \"))\n",
    "\n",
    "chu_vi, dien_tich = tinh_chu_vi_dien_tich(ban_kinh)\n",
    "\n",
    "print(f\"Chu vi hình tròn là: {chu_vi:.2f}\")\n",
    "print(f\"Diện tích hình tròn là: {dien_tich:.2f}\")"
   ]
  },
  {
   "cell_type": "code",
   "execution_count": 23,
   "metadata": {},
   "outputs": [
    {
     "name": "stdout",
     "output_type": "stream",
     "text": [
      "Chu vi hình tròn là: 16.34\n",
      "Diện tích hình tròn là: 21.24\n"
     ]
    }
   ],
   "source": [
    "ban_kinh = float(input(\"Nhập bán kính hình trong: \"))\n",
    "\n",
    "chu_vi = 2*math.pi*ban_kinh\n",
    "dien_tich= math.pi* (ban_kinh**2)\n",
    "\n",
    "print(f\"Chu vi hình tròn là: {chu_vi:.2f}\")\n",
    "print(f\"Diện tích hình tròn là: {dien_tich:.2f}\")"
   ]
  },
  {
   "cell_type": "markdown",
   "metadata": {},
   "source": [
    "# Câu 7"
   ]
  },
  {
   "cell_type": "code",
   "execution_count": 29,
   "metadata": {},
   "outputs": [
    {
     "name": "stdout",
     "output_type": "stream",
     "text": [
      "Số bé nhất là:2.0\n"
     ]
    }
   ],
   "source": [
    "def tim_so_be_nhat():\n",
    "    so_list = []\n",
    "    n = int(input(\"Nhập sosos lượng số (n>0):\"))\n",
    "    for i in range(n):\n",
    "        so = float(input(f\"Nhập số thứ {i+1}: \"))\n",
    "        so_list.append(so)\n",
    "    so_be_nhat = min(so_list)\n",
    "    return so_be_nhat\n",
    "result = tim_so_be_nhat()\n",
    "print(f\"Số bé nhất là:{result}\")"
   ]
  },
  {
   "cell_type": "code",
   "execution_count": null,
   "metadata": {},
   "outputs": [
    {
     "name": "stdout",
     "output_type": "stream",
     "text": [
      "Số bé nhất là: 2.0\n"
     ]
    }
   ],
   "source": [
    "n = int(input(\"Nhập số lượng số (n > 0): \"))\n",
    "\n",
    "so_list = []\n",
    "\n",
    "for i in range(n):\n",
    "    so = float(input(f\"Nhập số thứ {i + 1}: \"))\n",
    "    so_list.append(so)\n",
    "\n",
    "so_be_nhat = min(so_list) \n",
    "\n",
    "print(f\"Số bé nhất là: {so_be_nhat}\")\n"
   ]
  },
  {
   "cell_type": "markdown",
   "metadata": {},
   "source": [
    "# Câu 8"
   ]
  },
  {
   "cell_type": "code",
   "execution_count": 30,
   "metadata": {},
   "outputs": [
    {
     "name": "stdout",
     "output_type": "stream",
     "text": [
      "Giai thừa của 5 là: 120\n"
     ]
    }
   ],
   "source": [
    "\n",
    "n = int(input(\"Nhập một số nguyên dương n: \"))\n",
    "\n",
    "if n < 0:\n",
    "    print(\"Vui lòng nhập số nguyên dương.\")\n",
    "else:\n",
    "    giai_thua = 1  \n",
    "    for i in range(1, n + 1):\n",
    "        giai_thua *= i \n",
    "    print(f\"Giai thừa của {n} là: {giai_thua}\")\n"
   ]
  },
  {
   "cell_type": "markdown",
   "metadata": {},
   "source": [
    "# Câu 9"
   ]
  },
  {
   "cell_type": "code",
   "execution_count": 31,
   "metadata": {},
   "outputs": [
    {
     "name": "stdout",
     "output_type": "stream",
     "text": [
      "Số Fibonancci thứ 6 là: 8\n"
     ]
    }
   ],
   "source": [
    "n =int(input(\"Nhập một số nguyên dương n: \"))\n",
    "\n",
    "if n<0:\n",
    "    print(\"Vui lòng nhập số nguyên dương.\")\n",
    "else:\n",
    "    a,b =0,1\n",
    "    for _ in range(n):\n",
    "        a,b = b, a+b\n",
    "    print(f\"Số Fibonancci thứ {n} là: {a}\")\n",
    "    "
   ]
  },
  {
   "cell_type": "markdown",
   "metadata": {},
   "source": [
    "# Câu 10"
   ]
  },
  {
   "cell_type": "code",
   "execution_count": null,
   "metadata": {},
   "outputs": [
    {
     "name": "stdout",
     "output_type": "stream",
     "text": [
      "16945315 không phải là số nguyên tố.\n"
     ]
    }
   ],
   "source": [
    "n = int(input(\"Nhập một số nguyên dương n: \"))\n",
    "\n",
    "if n < 2:\n",
    "    print(f\"{n} không phải là số nguyên tố.\")\n",
    "else:\n",
    "    is_prime = True \n",
    "    for i in range(2, int(n**0.5) + 1):  \n",
    "        if n % i == 0:\n",
    "            is_prime = False\n",
    "            break\n",
    "\n",
    "    if is_prime:\n",
    "        print(f\"{n} là số nguyên tố.\")\n",
    "    else:\n",
    "        print(f\"{n} không phải là số nguyên tố.\")\n"
   ]
  }
 ],
 "metadata": {
  "kernelspec": {
   "display_name": "Python 3",
   "language": "python",
   "name": "python3"
  },
  "language_info": {
   "codemirror_mode": {
    "name": "ipython",
    "version": 3
   },
   "file_extension": ".py",
   "mimetype": "text/x-python",
   "name": "python",
   "nbconvert_exporter": "python",
   "pygments_lexer": "ipython3",
   "version": "3.11.5"
  }
 },
 "nbformat": 4,
 "nbformat_minor": 2
}
