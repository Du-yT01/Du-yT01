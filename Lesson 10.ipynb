{
 "cells": [
  {
   "cell_type": "code",
   "execution_count": 20,
   "metadata": {},
   "outputs": [],
   "source": [
    "import pandas as pd\n",
    "import numpy as np\n",
    "import math"
   ]
  },
  {
   "cell_type": "markdown",
   "metadata": {},
   "source": [
    "# Câu 1"
   ]
  },
  {
   "cell_type": "code",
   "execution_count": null,
   "metadata": {},
   "outputs": [
    {
     "data": {
      "text/html": [
       "<div>\n",
       "<style scoped>\n",
       "    .dataframe tbody tr th:only-of-type {\n",
       "        vertical-align: middle;\n",
       "    }\n",
       "\n",
       "    .dataframe tbody tr th {\n",
       "        vertical-align: top;\n",
       "    }\n",
       "\n",
       "    .dataframe thead th {\n",
       "        text-align: right;\n",
       "    }\n",
       "</style>\n",
       "<table border=\"1\" class=\"dataframe\">\n",
       "  <thead>\n",
       "    <tr style=\"text-align: right;\">\n",
       "      <th></th>\n",
       "      <th>Code KH</th>\n",
       "      <th>Name</th>\n",
       "      <th>SDT</th>\n",
       "      <th>Phong</th>\n",
       "      <th>Checkin</th>\n",
       "      <th>Checkout</th>\n",
       "      <th>Status</th>\n",
       "      <th>Độ hài lòng</th>\n",
       "    </tr>\n",
       "  </thead>\n",
       "  <tbody>\n",
       "    <tr>\n",
       "      <th>0</th>\n",
       "      <td>KH001</td>\n",
       "      <td>Phan Minh Hoàng</td>\n",
       "      <td>3644265612</td>\n",
       "      <td>A01</td>\n",
       "      <td>25/03/2021</td>\n",
       "      <td>29/03/2021</td>\n",
       "      <td>Đã trả phòng</td>\n",
       "      <td>0.75</td>\n",
       "    </tr>\n",
       "    <tr>\n",
       "      <th>1</th>\n",
       "      <td>KH002</td>\n",
       "      <td>Lê Bạch Thủy</td>\n",
       "      <td>4229223212</td>\n",
       "      <td>A05</td>\n",
       "      <td>25/03/2021</td>\n",
       "      <td>28/03/2021</td>\n",
       "      <td>Đã trả phòng</td>\n",
       "      <td>0.80</td>\n",
       "    </tr>\n",
       "    <tr>\n",
       "      <th>2</th>\n",
       "      <td>KH003</td>\n",
       "      <td>Thái Trung Sơn</td>\n",
       "      <td>5623158547</td>\n",
       "      <td>C05</td>\n",
       "      <td>26/03/2021</td>\n",
       "      <td>27/03/2021</td>\n",
       "      <td>Đã trả phòng</td>\n",
       "      <td>0.90</td>\n",
       "    </tr>\n",
       "    <tr>\n",
       "      <th>3</th>\n",
       "      <td>KH004</td>\n",
       "      <td>Hoàng Bảo Việt</td>\n",
       "      <td>1245633355</td>\n",
       "      <td>B01</td>\n",
       "      <td>27/03/2021</td>\n",
       "      <td>20/05/2021</td>\n",
       "      <td>Chưa trả phòng</td>\n",
       "      <td>NaN</td>\n",
       "    </tr>\n",
       "    <tr>\n",
       "      <th>4</th>\n",
       "      <td>KH005</td>\n",
       "      <td>Mai Thị Hảo</td>\n",
       "      <td>5987463223</td>\n",
       "      <td>C03</td>\n",
       "      <td>14/04/2021</td>\n",
       "      <td>19/05/2021</td>\n",
       "      <td>Chưa trả phòng</td>\n",
       "      <td>NaN</td>\n",
       "    </tr>\n",
       "  </tbody>\n",
       "</table>\n",
       "</div>"
      ],
      "text/plain": [
       "  Code KH             Name         SDT Phong     Checkin    Checkout  \\\n",
       "0   KH001  Phan Minh Hoàng  3644265612   A01  25/03/2021  29/03/2021   \n",
       "1   KH002     Lê Bạch Thủy  4229223212   A05  25/03/2021  28/03/2021   \n",
       "2   KH003   Thái Trung Sơn  5623158547   C05  26/03/2021  27/03/2021   \n",
       "3   KH004   Hoàng Bảo Việt  1245633355   B01  27/03/2021  20/05/2021   \n",
       "4   KH005      Mai Thị Hảo  5987463223   C03  14/04/2021  19/05/2021   \n",
       "\n",
       "           Status  Độ hài lòng  \n",
       "0    Đã trả phòng         0.75  \n",
       "1    Đã trả phòng         0.80  \n",
       "2    Đã trả phòng         0.90  \n",
       "3  Chưa trả phòng          NaN  \n",
       "4  Chưa trả phòng          NaN  "
      ]
     },
     "execution_count": 2,
     "metadata": {},
     "output_type": "execute_result"
    }
   ],
   "source": [
    "# 1) Hiển thị dữ liệu trong DataFrame\n",
    "df = pd.read_excel('baitap10_data.xlsx')\n",
    "\n",
    "df.head()"
   ]
  },
  {
   "cell_type": "code",
   "execution_count": 4,
   "metadata": {},
   "outputs": [
    {
     "data": {
      "text/html": [
       "<div>\n",
       "<style scoped>\n",
       "    .dataframe tbody tr th:only-of-type {\n",
       "        vertical-align: middle;\n",
       "    }\n",
       "\n",
       "    .dataframe tbody tr th {\n",
       "        vertical-align: top;\n",
       "    }\n",
       "\n",
       "    .dataframe thead th {\n",
       "        text-align: right;\n",
       "    }\n",
       "</style>\n",
       "<table border=\"1\" class=\"dataframe\">\n",
       "  <thead>\n",
       "    <tr style=\"text-align: right;\">\n",
       "      <th></th>\n",
       "      <th>Code KH</th>\n",
       "      <th>Name</th>\n",
       "      <th>SDT</th>\n",
       "      <th>Phong</th>\n",
       "      <th>Checkin</th>\n",
       "      <th>Checkout</th>\n",
       "      <th>Status</th>\n",
       "      <th>Độ hài lòng</th>\n",
       "    </tr>\n",
       "  </thead>\n",
       "  <tbody>\n",
       "    <tr>\n",
       "      <th>0</th>\n",
       "      <td>KH001</td>\n",
       "      <td>Phan Minh Hoàng</td>\n",
       "      <td>3644265612</td>\n",
       "      <td>A01</td>\n",
       "      <td>25/03/2021</td>\n",
       "      <td>29/03/2021</td>\n",
       "      <td>Đã trả phòng</td>\n",
       "      <td>0.75</td>\n",
       "    </tr>\n",
       "    <tr>\n",
       "      <th>1</th>\n",
       "      <td>KH002</td>\n",
       "      <td>Lê Bạch Thủy</td>\n",
       "      <td>4229223212</td>\n",
       "      <td>A05</td>\n",
       "      <td>25/03/2021</td>\n",
       "      <td>28/03/2021</td>\n",
       "      <td>Đã trả phòng</td>\n",
       "      <td>0.80</td>\n",
       "    </tr>\n",
       "    <tr>\n",
       "      <th>2</th>\n",
       "      <td>KH003</td>\n",
       "      <td>Thái Trung Sơn</td>\n",
       "      <td>5623158547</td>\n",
       "      <td>C05</td>\n",
       "      <td>26/03/2021</td>\n",
       "      <td>27/03/2021</td>\n",
       "      <td>Đã trả phòng</td>\n",
       "      <td>0.90</td>\n",
       "    </tr>\n",
       "    <tr>\n",
       "      <th>3</th>\n",
       "      <td>KH004</td>\n",
       "      <td>Hoàng Bảo Việt</td>\n",
       "      <td>1245633355</td>\n",
       "      <td>B01</td>\n",
       "      <td>27/03/2021</td>\n",
       "      <td>20/05/2021</td>\n",
       "      <td>Chưa trả phòng</td>\n",
       "      <td>0.00</td>\n",
       "    </tr>\n",
       "    <tr>\n",
       "      <th>4</th>\n",
       "      <td>KH005</td>\n",
       "      <td>Mai Thị Hảo</td>\n",
       "      <td>5987463223</td>\n",
       "      <td>C03</td>\n",
       "      <td>14/04/2021</td>\n",
       "      <td>19/05/2021</td>\n",
       "      <td>Chưa trả phòng</td>\n",
       "      <td>0.00</td>\n",
       "    </tr>\n",
       "  </tbody>\n",
       "</table>\n",
       "</div>"
      ],
      "text/plain": [
       "  Code KH             Name         SDT Phong     Checkin    Checkout  \\\n",
       "0   KH001  Phan Minh Hoàng  3644265612   A01  25/03/2021  29/03/2021   \n",
       "1   KH002     Lê Bạch Thủy  4229223212   A05  25/03/2021  28/03/2021   \n",
       "2   KH003   Thái Trung Sơn  5623158547   C05  26/03/2021  27/03/2021   \n",
       "3   KH004   Hoàng Bảo Việt  1245633355   B01  27/03/2021  20/05/2021   \n",
       "4   KH005      Mai Thị Hảo  5987463223   C03  14/04/2021  19/05/2021   \n",
       "\n",
       "           Status  Độ hài lòng  \n",
       "0    Đã trả phòng         0.75  \n",
       "1    Đã trả phòng         0.80  \n",
       "2    Đã trả phòng         0.90  \n",
       "3  Chưa trả phòng         0.00  \n",
       "4  Chưa trả phòng         0.00  "
      ]
     },
     "execution_count": 4,
     "metadata": {},
     "output_type": "execute_result"
    }
   ],
   "source": [
    "# 2) Kiểm tra null và fill bằng 0\n",
    "\n",
    "if df.isnull().values.any():\n",
    "    df.fillna(0, inplace=True)\n",
    "    \n",
    "df.head()"
   ]
  },
  {
   "cell_type": "code",
   "execution_count": 6,
   "metadata": {},
   "outputs": [
    {
     "name": "stdout",
     "output_type": "stream",
     "text": [
      "\n",
      "Danh sách khách hàng chưa trả phòng:\n",
      "   Code KH             Name         SDT Phong     Checkin    Checkout  \\\n",
      "3    KH004   Hoàng Bảo Việt  1245633355   B01  27/03/2021  20/05/2021   \n",
      "4    KH005      Mai Thị Hảo  5987463223   C03  14/04/2021  19/05/2021   \n",
      "9    KH010    Lò Trung Minh  6825253524   B02  20/04/2021  11/05/2021   \n",
      "10   KH011   Hứa Hùng Cường  5786253534   C01  20/04/2021  10/05/2021   \n",
      "13   KH014      Lưu Văn Trí  8754613132   A03  25/04/2021  15/05/2021   \n",
      "14   KH015   Hoàng Mai Ngọc  2573856343   B04  25/04/2021  14/05/2021   \n",
      "16   KH017      Vũ Đình Thi  5697413658   C05  26/04/2021  17/05/2021   \n",
      "17   KH018    Phan Quốc Huy  9999678989   A05  25/04/2021  17/05/2021   \n",
      "20   KH021      Vì Nhân Bảo  5631265644   A04  01/05/2021  15/05/2021   \n",
      "22   KH023   Trịnh Bảo Trâm  5141512636   A01  03/05/2021  23/05/2021   \n",
      "23   KH024  Nguyễn Sơn Tùng  4621632366   C02  05/05/2021  11/05/2021   \n",
      "\n",
      "            Status  Độ hài lòng  \n",
      "3   Chưa trả phòng          0.0  \n",
      "4   Chưa trả phòng          0.0  \n",
      "9   Chưa trả phòng          0.0  \n",
      "10  Chưa trả phòng          0.0  \n",
      "13  Chưa trả phòng          0.0  \n",
      "14  Chưa trả phòng          0.0  \n",
      "16  Chưa trả phòng          0.0  \n",
      "17  Chưa trả phòng          0.0  \n",
      "20  Chưa trả phòng          0.0  \n",
      "22  Chưa trả phòng          0.0  \n",
      "23  Chưa trả phòng          0.0  \n",
      "\n",
      "Danh sách khách hàng đã trả phòng:\n",
      "   Code KH              Name         SDT Phong     Checkin    Checkout  \\\n",
      "0    KH001   Phan Minh Hoàng  3644265612   A01  25/03/2021  29/03/2021   \n",
      "1    KH002      Lê Bạch Thủy  4229223212   A05  25/03/2021  28/03/2021   \n",
      "2    KH003    Thái Trung Sơn  5623158547   C05  26/03/2021  27/03/2021   \n",
      "5    KH006     Đinh Văn Linh  4266987423   A04  14/04/2021  15/04/2021   \n",
      "6    KH007   Nguyễn Thế Tuấn  5634672868   A02  17/04/2021  25/04/2021   \n",
      "7    KH008    Phạm Nhật Nghệ  2435252352   B05  20/04/2021  27/04/2021   \n",
      "8    KH009      Thế Văn Bành  6728355352   C02  20/04/2021  29/04/2021   \n",
      "11   KH012     Phan Hoàng Sa  6425353552   B03  24/04/2021  25/04/2021   \n",
      "12   KH013  Nguyễn Trường Sa  6382461331   C04  24/04/2021  26/04/2021   \n",
      "15   KH016     Đào Việt Hùng  5984632214   A01  26/04/2021  30/04/2021   \n",
      "18   KH019     Phan Hoàng Kì  5416565651   B05  30/04/2021  02/05/2021   \n",
      "19   KH020    Trịnh Phú Quốc  5123262565   B03  30/04/2021  05/05/2023   \n",
      "21   KH022    Hứa Kim truyền  6546664644   C04  01/05/2021  06/05/2021   \n",
      "\n",
      "          Status  Độ hài lòng  \n",
      "0   Đã trả phòng         0.75  \n",
      "1   Đã trả phòng         0.80  \n",
      "2   Đã trả phòng         0.90  \n",
      "5   Đã trả phòng         1.00  \n",
      "6   Đã trả phòng         0.65  \n",
      "7   Đã trả phòng         0.90  \n",
      "8   Đã trả phòng         0.85  \n",
      "11  Đã trả phòng         0.10  \n",
      "12  Đã trả phòng         0.80  \n",
      "15  Đã trả phòng         1.00  \n",
      "18  Đã trả phòng         0.80  \n",
      "19  Đã trả phòng         0.70  \n",
      "21  Đã trả phòng         1.00  \n"
     ]
    }
   ],
   "source": [
    "# 3) Hiển thị danh sách khách hàng chưa trả phòng và đã trả phòng\n",
    "\n",
    "print(\"\\nDanh sách khách hàng chưa trả phòng:\")\n",
    "print(df[df['Status']=='Chưa trả phòng'])\n",
    "\n",
    "\n",
    "print(\"\\nDanh sách khách hàng đã trả phòng:\")\n",
    "print(df[df['Status']=='Đã trả phòng'])"
   ]
  },
  {
   "cell_type": "code",
   "execution_count": 7,
   "metadata": {},
   "outputs": [
    {
     "name": "stdout",
     "output_type": "stream",
     "text": [
      "\n",
      "Danh sách khách hàng có độ hài lòng trên 80%:\n",
      "   Code KH            Name         SDT Phong     Checkin    Checkout  \\\n",
      "2    KH003  Thái Trung Sơn  5623158547   C05  26/03/2021  27/03/2021   \n",
      "5    KH006   Đinh Văn Linh  4266987423   A04  14/04/2021  15/04/2021   \n",
      "7    KH008  Phạm Nhật Nghệ  2435252352   B05  20/04/2021  27/04/2021   \n",
      "8    KH009    Thế Văn Bành  6728355352   C02  20/04/2021  29/04/2021   \n",
      "15   KH016   Đào Việt Hùng  5984632214   A01  26/04/2021  30/04/2021   \n",
      "21   KH022  Hứa Kim truyền  6546664644   C04  01/05/2021  06/05/2021   \n",
      "\n",
      "          Status  Độ hài lòng  \n",
      "2   Đã trả phòng         0.90  \n",
      "5   Đã trả phòng         1.00  \n",
      "7   Đã trả phòng         0.90  \n",
      "8   Đã trả phòng         0.85  \n",
      "15  Đã trả phòng         1.00  \n",
      "21  Đã trả phòng         1.00  \n"
     ]
    }
   ],
   "source": [
    "# 4) Hiển thị danh sách khách hàng có mức độ hài lòng trên 80%\n",
    "print(\"\\nDanh sách khách hàng có độ hài lòng trên 80%:\")\n",
    "print(df[df['Độ hài lòng'] > 0.8])"
   ]
  },
  {
   "cell_type": "code",
   "execution_count": 15,
   "metadata": {},
   "outputs": [
    {
     "name": "stdout",
     "output_type": "stream",
     "text": [
      "\n",
      "Danh sách khách hàng đặt phòng từ 1/4 đến 15/5 và chưa trả phòng:\n",
      "   Code KH             Name         SDT Phong    Checkin    Checkout  \\\n",
      "4    KH005      Mai Thị Hảo  5987463223   C03 2021-04-14  19/05/2021   \n",
      "9    KH010    Lò Trung Minh  6825253524   B02 2021-04-20  11/05/2021   \n",
      "10   KH011   Hứa Hùng Cường  5786253534   C01 2021-04-20  10/05/2021   \n",
      "13   KH014      Lưu Văn Trí  8754613132   A03 2021-04-25  15/05/2021   \n",
      "14   KH015   Hoàng Mai Ngọc  2573856343   B04 2021-04-25  14/05/2021   \n",
      "16   KH017      Vũ Đình Thi  5697413658   C05 2021-04-26  17/05/2021   \n",
      "17   KH018    Phan Quốc Huy  9999678989   A05 2021-04-25  17/05/2021   \n",
      "20   KH021      Vì Nhân Bảo  5631265644   A04 2021-05-01  15/05/2021   \n",
      "22   KH023   Trịnh Bảo Trâm  5141512636   A01 2021-05-03  23/05/2021   \n",
      "23   KH024  Nguyễn Sơn Tùng  4621632366   C02 2021-05-05  11/05/2021   \n",
      "\n",
      "            Status  Độ hài lòng    checkin   checkout  \n",
      "4   Chưa trả phòng          0.0 2021-04-14 2021-05-19  \n",
      "9   Chưa trả phòng          0.0 2021-04-20 2021-05-11  \n",
      "10  Chưa trả phòng          0.0 2021-04-20 2021-05-10  \n",
      "13  Chưa trả phòng          0.0 2021-04-25 2021-05-15  \n",
      "14  Chưa trả phòng          0.0 2021-04-25 2021-05-14  \n",
      "16  Chưa trả phòng          0.0 2021-04-26 2021-05-17  \n",
      "17  Chưa trả phòng          0.0 2021-04-25 2021-05-17  \n",
      "20  Chưa trả phòng          0.0 2021-05-01 2021-05-15  \n",
      "22  Chưa trả phòng          0.0 2021-05-03 2021-05-23  \n",
      "23  Chưa trả phòng          0.0 2021-05-05 2021-05-11  \n"
     ]
    },
    {
     "name": "stderr",
     "output_type": "stream",
     "text": [
      "C:\\Users\\LENOVO\\AppData\\Local\\Temp\\ipykernel_18184\\757944554.py:3: UserWarning: Parsing dates in %d/%m/%Y format when dayfirst=False (the default) was specified. Pass `dayfirst=True` or specify a format to silence this warning.\n",
      "  df['checkout'] = pd.to_datetime(df['Checkout'])\n"
     ]
    }
   ],
   "source": [
    "# 5) Hiển thị danh sách khách hàng đặt phòng từ 1/4 đến 15/5 và chưa trả phòng\n",
    "df['checkin'] = pd.to_datetime(df['Checkin'])\n",
    "df['checkout'] = pd.to_datetime(df['Checkout'])\n",
    "\n",
    "start_date = '2021-04-01'\n",
    "end_date = '2021-05-15'\n",
    "print(\"\\nDanh sách khách hàng đặt phòng từ 1/4 đến 15/5 và chưa trả phòng:\")\n",
    "print(df[(df['checkin'] >= start_date) \n",
    "         & (df['Checkin'] <= end_date) \n",
    "         & (df['Status'] =='Chưa trả phòng')])"
   ]
  },
  {
   "cell_type": "code",
   "execution_count": null,
   "metadata": {},
   "outputs": [
    {
     "name": "stdout",
     "output_type": "stream",
     "text": [
      "{'Tên': 'Nguyễn Văn A', 'Tuổi': 28, 'Giới Tính': 'Nam', 'Ngày_dat_phong': 0.0004948045522018803, 'Thanh_toan': 'Chưa trả phòng', 'Hài_long': 90}\n"
     ]
    }
   ],
   "source": [
    "# 6) Thêm khách hàng mới vào danh sách\n",
    "new_customer = {\n",
    "    'Tên': 'Nguyễn Văn A',\n",
    "    'Tuổi': 28,\n",
    "    'Giới Tính': 'Nam',\n",
    "    'Ngày_dat_phong': 10/10/2021,\n",
    "    'Thanh_toan': 'Chưa trả phòng',\n",
    "    'Hài_long': 90\n",
    "}\n",
    "\n",
    "\n",
    "print(new_customer)\n"
   ]
  },
  {
   "cell_type": "code",
   "execution_count": 32,
   "metadata": {},
   "outputs": [
    {
     "name": "stdout",
     "output_type": "stream",
     "text": [
      "  Code KH         Name         SDT Phong    Checkin    Checkout  \\\n",
      "4   KH005  Mai Thị Hảo  5987463223   C03 2021-04-14  19/05/2021   \n",
      "\n",
      "           Status  Độ hài lòng    checkin   checkout  \n",
      "4  Chưa trả phòng          0.0 2021-04-14 2021-05-19  \n"
     ]
    }
   ],
   "source": [
    "# 7) Hiển thị danh sách khách hàng theo tên\n",
    "\n",
    "name =input(\"Tên khách hàng\")\n",
    "kh = df[df['Name'] == name]\n",
    "print(kh)"
   ]
  },
  {
   "cell_type": "code",
   "execution_count": null,
   "metadata": {},
   "outputs": [
    {
     "name": "stdout",
     "output_type": "stream",
     "text": [
      "Phòng còn trống là 4 phòng.\n",
      "\n",
      "Danh sách những phòng còn trống là:\n",
      "    Phong     Checkin    Checkout        Status\n",
      "6    A02  17/04/2021  25/04/2021  Đã trả phòng\n",
      "7    B05  20/04/2021  27/04/2021  Đã trả phòng\n",
      "12   C04  24/04/2021  26/04/2021  Đã trả phòng\n",
      "11   B03  24/04/2021  25/04/2021  Đã trả phòng\n"
     ]
    }
   ],
   "source": [
    " # 8\n",
    "a = \"Chưa trả phòng\"\n",
    "kha = df[df[\"Status\"].str.contains(a)]\n",
    "pg = df[\"Phong\"]\n",
    "b = df['Phong'].drop_duplicates()\n",
    "c = len(pg)-len(kha)-(len(pg)-len(b))\n",
    "print('Phòng còn trống là',c,'phòng.')\n",
    "\n",
    "# Cách thức hiển thị phòng còn trống\n",
    "\n",
    "df['Checkin'] = pd.to_datetime(df['Checkin'])                       \n",
    "df2 = df.sort_values(by='Checkin').drop_duplicates('Phong')\n",
    "df2['Checkin'] = df2['Checkin'].dt.strftime('%d/%m/%Y')   \n",
    "b = df2[['Phong','Checkin','Checkout','Status']].query(\"Checkin <= '30/04/2021' and Status == 'Đã trả phòng' and Phong != ('A01','A05','C05','A04','C02') \")\n",
    "print(\"\\nDanh sách những phòng còn trống là:\\n\",b)"
   ]
  },
  {
   "cell_type": "code",
   "execution_count": 38,
   "metadata": {},
   "outputs": [
    {
     "name": "stdout",
     "output_type": "stream",
     "text": [
      "\n",
      "Thông tin khách hàng đã trả phòng:\n",
      "\n",
      "Phan Minh Hoàng đã ở trong: 4 ngày.\n",
      "Lê Bạch Thủy đã ở trong: 3 ngày.\n",
      "Thái Trung Sơn đã ở trong: 1 ngày.\n",
      "Đinh Văn Linh đã ở trong: 1 ngày.\n",
      "Nguyễn Thế Tuấn đã ở trong: 8 ngày.\n",
      "Phạm Nhật Nghệ đã ở trong: 7 ngày.\n",
      "Thế Văn Bành đã ở trong: 9 ngày.\n",
      "Phan Hoàng Sa đã ở trong: 1 ngày.\n",
      "Nguyễn Trường Sa đã ở trong: 2 ngày.\n",
      "Đào Việt Hùng đã ở trong: 4 ngày.\n",
      "Phan Hoàng Kì đã ở trong: 2 ngày.\n",
      "Trịnh Phú Quốc đã ở trong: 735 ngày.\n",
      "Hứa Kim truyền đã ở trong: 5 ngày.\n"
     ]
    }
   ],
   "source": [
    "# 9\n",
    "print(\"\\nThông tin khách hàng đã trả phòng:\\n\")\n",
    "da_tra_phong = df[df['Status'] == 'Đã trả phòng']\n",
    "\n",
    "for index, row in da_tra_phong.iterrows():\n",
    "    time_spent = (row['checkout'] - row['checkin']).days  # Tính số ngày ở\n",
    "    print(f\"{row['Name']} đã ở trong: {time_spent} ngày.\")"
   ]
  },
  {
   "cell_type": "code",
   "execution_count": 39,
   "metadata": {},
   "outputs": [
    {
     "name": "stdout",
     "output_type": "stream",
     "text": [
      "Phan Minh Hoàng phải trả: 800,000 VNĐ.\n",
      "Lê Bạch Thủy phải trả: 600,000 VNĐ.\n",
      "Thái Trung Sơn phải trả: 200,000 VNĐ.\n",
      "Đinh Văn Linh phải trả: 200,000 VNĐ.\n",
      "Nguyễn Thế Tuấn phải trả: 1,600,000 VNĐ.\n",
      "Phạm Nhật Nghệ phải trả: 1,400,000 VNĐ.\n",
      "Thế Văn Bành phải trả: 1,800,000 VNĐ.\n",
      "Phan Hoàng Sa phải trả: 200,000 VNĐ.\n",
      "Nguyễn Trường Sa phải trả: 400,000 VNĐ.\n",
      "Đào Việt Hùng phải trả: 800,000 VNĐ.\n",
      "Phan Hoàng Kì phải trả: 400,000 VNĐ.\n",
      "Trịnh Phú Quốc phải trả: 147,000,000 VNĐ.\n",
      "Hứa Kim truyền phải trả: 1,000,000 VNĐ.\n"
     ]
    }
   ],
   "source": [
    "# 10\n",
    "# Tính số tiền phải trả\n",
    "for index, row in da_tra_phong.iterrows():\n",
    "    if row['Status'] == 'Đã trả phòng':\n",
    "        # Giả sử bạn có cột cho số ngày đã ở\n",
    "        nights = (row['checkout'] - row['checkin']).days\n",
    "        total_cost = nights * 200000  # Tính tổng tiền phải trả\n",
    "        print(f\"{row['Name']} phải trả: {total_cost:,.0f} VNĐ.\")\n",
    "\n"
   ]
  }
 ],
 "metadata": {
  "kernelspec": {
   "display_name": "Python 3",
   "language": "python",
   "name": "python3"
  },
  "language_info": {
   "codemirror_mode": {
    "name": "ipython",
    "version": 3
   },
   "file_extension": ".py",
   "mimetype": "text/x-python",
   "name": "python",
   "nbconvert_exporter": "python",
   "pygments_lexer": "ipython3",
   "version": "3.11.5"
  }
 },
 "nbformat": 4,
 "nbformat_minor": 2
}
